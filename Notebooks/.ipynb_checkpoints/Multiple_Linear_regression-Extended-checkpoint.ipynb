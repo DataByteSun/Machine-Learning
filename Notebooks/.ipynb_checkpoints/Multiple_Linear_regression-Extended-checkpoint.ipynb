{
 "cells": [
  {
   "cell_type": "markdown",
   "id": "4e4df6ef-2556-4f50-a2d5-3bceed70d201",
   "metadata": {},
   "source": [
    "# Story: DataByteSun: The Analysis Unfolds: Moving Beyond TV"
   ]
  },
  {
   "cell_type": "markdown",
   "id": "770b5745-e4a2-4b2c-9900-a04899f51a94",
   "metadata": {},
   "source": [
    "____________"
   ]
  },
  {
   "cell_type": "markdown",
   "id": "78a8c7d7-f0cf-4aa4-84f0-5c398bce9ef3",
   "metadata": {},
   "source": [
    "# Introduction\n",
    "With **RefreshCo’s** future on the line, your analysis journey at **DataByteSun** was just beginning. After Saira’s request to dive into the relationship between TV ads and sales, your initial findings showed a noticeable impact. Yet, questions remained: were TV ads the sole driver of RefreshCo’s revenue, or were other factors at play?\n",
    "\n",
    "To uncover the full story, you decided to expand the analysis and bring radio and newspaper advertising into the picture. This meant using multiple linear regression, a technique that would allow you to quantify the influence of each advertising channel on sales. Saira was eager to see whether the cumulative effect of these advertising efforts would reveal additional opportunities for optimizing their budget.\n"
   ]
  },
  {
   "cell_type": "markdown",
   "id": "5101f54a-ef39-4d9b-baa4-02f940044011",
   "metadata": {},
   "source": [
    "# Multiple Linear Regression: A Holistic Approach\n",
    "**Looking only at TV ads might be an oversimplification,** you explained to your colleagues. **If we’re going to give RefreshCo the best possible insight, we need to consider radio and newspaper ads as well. This way, we can recommend a strategy that reflects the real-world complexity of their advertising investments.**\n",
    "\n",
    "<span style=\"font-family: 'Courier New'; font-size: 18px;\">The team agreed, and you quickly set up a multiple linear regression model that would incorporate TV, radio, and newspaper ad spending as independent variables, with sales as the dependent variable. </span>\n",
    "\n",
    "\n",
    "<span style=\"font-family: 'Courier New'; font-size: 22px;\"> Dataset: Advertising Sales Dataset </span><br>\n",
    "<span style=\"font-family: 'Courier New'; font-size: 14px;\"> Link: https://www.kaggle.com/datasets/ashydv/advertising-dataset </span>"
   ]
  },
  {
   "cell_type": "markdown",
   "id": "6112bd46-f55b-4de6-81f8-1a082950fc2d",
   "metadata": {},
   "source": [
    "_________________________\n",
    "_________________________"
   ]
  },
  {
   "cell_type": "markdown",
   "id": "5ae4db24-3060-4640-b31f-e4a7fa9cddc2",
   "metadata": {},
   "source": [
    "# The Investigation\n",
    "As a data analyst at DataByteSun, you took on the challenge.You gathered the historical advertising data for RefreshCo, which included expenditures on TV, radio, and newspapers, along with the corresponding sales figures. \n",
    "- The dataset consisted of the following columns:\n",
    "    - TV: Amount spent on TV advertising (Budget for TV Advertisements in 1000 dollers)\n",
    "    - Radio: Amount spent on radio advertising (Budget for Radio Advertisements in 1000 dollers)\n",
    "    - Newspaper: Amount spent on newspaper advertising (Budget for Newspaper Advertisements in 1000 dollers)\n",
    "    - Sales: Total sales generated (Sales Revenue in Million dollers)"
   ]
  },
  {
   "cell_type": "markdown",
   "id": "6e3a45b6-c4c7-49c0-9649-c3562c078b40",
   "metadata": {},
   "source": [
    "____________________\n",
    "____________________"
   ]
  },
  {
   "cell_type": "code",
   "execution_count": 1,
   "id": "abc137e9-99bb-485a-ab2f-d8f2d9265b5a",
   "metadata": {},
   "outputs": [],
   "source": [
    "# import warnings\n",
    "import warnings\n",
    "\n",
    "import pandas as pd\n",
    "import numpy as np\n",
    "\n",
    "import seaborn as sns\n",
    "import matplotlib.pyplot as plt\n",
    "\n",
    "# Linear Regression over training Dataset\n",
    "from sklearn.model_selection import train_test_split\n",
    "from sklearn.linear_model import LinearRegression\n",
    "from sklearn.metrics import mean_squared_error, r2_score\n",
    "\n",
    "from mpl_toolkits.mplot3d import Axes3D\n",
    "from matplotlib.lines import Line2D\n",
    "\n",
    "from statsmodels.stats.outliers_influence import variance_inflation_factor\n",
    "from statsmodels.tools.tools import add_constant"
   ]
  },
  {
   "cell_type": "markdown",
   "id": "1362aa3c-e22f-4b58-b19e-0c2e097f9525",
   "metadata": {},
   "source": [
    "## - EDA"
   ]
  },
  {
   "cell_type": "code",
   "execution_count": 2,
   "id": "ed7d17ac-4c11-4bd8-b8f0-19326e05a74a",
   "metadata": {},
   "outputs": [
    {
     "data": {
      "text/html": [
       "<div>\n",
       "<style scoped>\n",
       "    .dataframe tbody tr th:only-of-type {\n",
       "        vertical-align: middle;\n",
       "    }\n",
       "\n",
       "    .dataframe tbody tr th {\n",
       "        vertical-align: top;\n",
       "    }\n",
       "\n",
       "    .dataframe thead th {\n",
       "        text-align: right;\n",
       "    }\n",
       "</style>\n",
       "<table border=\"1\" class=\"dataframe\">\n",
       "  <thead>\n",
       "    <tr style=\"text-align: right;\">\n",
       "      <th></th>\n",
       "      <th>TV</th>\n",
       "      <th>Radio</th>\n",
       "      <th>Newspaper</th>\n",
       "      <th>Sales</th>\n",
       "    </tr>\n",
       "  </thead>\n",
       "  <tbody>\n",
       "    <tr>\n",
       "      <th>0</th>\n",
       "      <td>230.1</td>\n",
       "      <td>37.8</td>\n",
       "      <td>69.2</td>\n",
       "      <td>22.1</td>\n",
       "    </tr>\n",
       "    <tr>\n",
       "      <th>1</th>\n",
       "      <td>44.5</td>\n",
       "      <td>39.3</td>\n",
       "      <td>45.1</td>\n",
       "      <td>10.4</td>\n",
       "    </tr>\n",
       "    <tr>\n",
       "      <th>2</th>\n",
       "      <td>17.2</td>\n",
       "      <td>45.9</td>\n",
       "      <td>69.3</td>\n",
       "      <td>12.0</td>\n",
       "    </tr>\n",
       "    <tr>\n",
       "      <th>3</th>\n",
       "      <td>151.5</td>\n",
       "      <td>41.3</td>\n",
       "      <td>58.5</td>\n",
       "      <td>16.5</td>\n",
       "    </tr>\n",
       "    <tr>\n",
       "      <th>4</th>\n",
       "      <td>180.8</td>\n",
       "      <td>10.8</td>\n",
       "      <td>58.4</td>\n",
       "      <td>17.9</td>\n",
       "    </tr>\n",
       "  </tbody>\n",
       "</table>\n",
       "</div>"
      ],
      "text/plain": [
       "      TV  Radio  Newspaper  Sales\n",
       "0  230.1   37.8       69.2   22.1\n",
       "1   44.5   39.3       45.1   10.4\n",
       "2   17.2   45.9       69.3   12.0\n",
       "3  151.5   41.3       58.5   16.5\n",
       "4  180.8   10.8       58.4   17.9"
      ]
     },
     "execution_count": 2,
     "metadata": {},
     "output_type": "execute_result"
    }
   ],
   "source": [
    "warnings.filterwarnings('ignore')\n",
    "# Import datasets\n",
    "data = pd.read_csv('../Datasets/advertising.csv')\n",
    "data.head()"
   ]
  },
  {
   "cell_type": "code",
   "execution_count": 3,
   "id": "ea94fe19-c6db-4512-9708-c467cac5ea55",
   "metadata": {},
   "outputs": [
    {
     "name": "stdout",
     "output_type": "stream",
     "text": [
      "<class 'pandas.core.frame.DataFrame'>\n",
      "RangeIndex: 200 entries, 0 to 199\n",
      "Data columns (total 4 columns):\n",
      " #   Column     Non-Null Count  Dtype  \n",
      "---  ------     --------------  -----  \n",
      " 0   TV         200 non-null    float64\n",
      " 1   Radio      200 non-null    float64\n",
      " 2   Newspaper  200 non-null    float64\n",
      " 3   Sales      200 non-null    float64\n",
      "dtypes: float64(4)\n",
      "memory usage: 6.4 KB\n"
     ]
    }
   ],
   "source": [
    "data.info()"
   ]
  },
  {
   "cell_type": "code",
   "execution_count": 4,
   "id": "c6761c5f-b4aa-4822-bfeb-09942a1bbe29",
   "metadata": {},
   "outputs": [
    {
     "data": {
      "text/html": [
       "<div>\n",
       "<style scoped>\n",
       "    .dataframe tbody tr th:only-of-type {\n",
       "        vertical-align: middle;\n",
       "    }\n",
       "\n",
       "    .dataframe tbody tr th {\n",
       "        vertical-align: top;\n",
       "    }\n",
       "\n",
       "    .dataframe thead th {\n",
       "        text-align: right;\n",
       "    }\n",
       "</style>\n",
       "<table border=\"1\" class=\"dataframe\">\n",
       "  <thead>\n",
       "    <tr style=\"text-align: right;\">\n",
       "      <th></th>\n",
       "      <th>TV</th>\n",
       "      <th>Radio</th>\n",
       "      <th>Newspaper</th>\n",
       "      <th>Sales</th>\n",
       "    </tr>\n",
       "  </thead>\n",
       "  <tbody>\n",
       "    <tr>\n",
       "      <th>count</th>\n",
       "      <td>200.000000</td>\n",
       "      <td>200.000000</td>\n",
       "      <td>200.000000</td>\n",
       "      <td>200.000000</td>\n",
       "    </tr>\n",
       "    <tr>\n",
       "      <th>mean</th>\n",
       "      <td>147.042500</td>\n",
       "      <td>23.264000</td>\n",
       "      <td>30.554000</td>\n",
       "      <td>15.130500</td>\n",
       "    </tr>\n",
       "    <tr>\n",
       "      <th>std</th>\n",
       "      <td>85.854236</td>\n",
       "      <td>14.846809</td>\n",
       "      <td>21.778621</td>\n",
       "      <td>5.283892</td>\n",
       "    </tr>\n",
       "    <tr>\n",
       "      <th>min</th>\n",
       "      <td>0.700000</td>\n",
       "      <td>0.000000</td>\n",
       "      <td>0.300000</td>\n",
       "      <td>1.600000</td>\n",
       "    </tr>\n",
       "    <tr>\n",
       "      <th>25%</th>\n",
       "      <td>74.375000</td>\n",
       "      <td>9.975000</td>\n",
       "      <td>12.750000</td>\n",
       "      <td>11.000000</td>\n",
       "    </tr>\n",
       "    <tr>\n",
       "      <th>50%</th>\n",
       "      <td>149.750000</td>\n",
       "      <td>22.900000</td>\n",
       "      <td>25.750000</td>\n",
       "      <td>16.000000</td>\n",
       "    </tr>\n",
       "    <tr>\n",
       "      <th>75%</th>\n",
       "      <td>218.825000</td>\n",
       "      <td>36.525000</td>\n",
       "      <td>45.100000</td>\n",
       "      <td>19.050000</td>\n",
       "    </tr>\n",
       "    <tr>\n",
       "      <th>max</th>\n",
       "      <td>296.400000</td>\n",
       "      <td>49.600000</td>\n",
       "      <td>114.000000</td>\n",
       "      <td>27.000000</td>\n",
       "    </tr>\n",
       "  </tbody>\n",
       "</table>\n",
       "</div>"
      ],
      "text/plain": [
       "               TV       Radio   Newspaper       Sales\n",
       "count  200.000000  200.000000  200.000000  200.000000\n",
       "mean   147.042500   23.264000   30.554000   15.130500\n",
       "std     85.854236   14.846809   21.778621    5.283892\n",
       "min      0.700000    0.000000    0.300000    1.600000\n",
       "25%     74.375000    9.975000   12.750000   11.000000\n",
       "50%    149.750000   22.900000   25.750000   16.000000\n",
       "75%    218.825000   36.525000   45.100000   19.050000\n",
       "max    296.400000   49.600000  114.000000   27.000000"
      ]
     },
     "execution_count": 4,
     "metadata": {},
     "output_type": "execute_result"
    }
   ],
   "source": [
    "# Initial Data Exploration\n",
    "data.describe()"
   ]
  },
  {
   "cell_type": "markdown",
   "id": "f4cdf710-4251-465c-8446-122b1f187f77",
   "metadata": {},
   "source": [
    "<span style=\"font-family: 'Courier New'; font-size: 18px;\">Based on the results, there are total of 200 records. Notably, the budget for TV is significantly higher compared to the other media. Additionally, you observed that the minimum value for Radio is 0, which warrants further investigation. </span>"
   ]
  },
  {
   "cell_type": "code",
   "execution_count": 5,
   "id": "5dbe7b5c-fa28-43bc-b24f-a7d0cb9552b7",
   "metadata": {},
   "outputs": [
    {
     "name": "stdout",
     "output_type": "stream",
     "text": [
      "       TV  Radio  Newspaper  Sales\n",
      "127  80.2    0.0        9.2   11.9\n"
     ]
    }
   ],
   "source": [
    "print(data[data['Radio'] == 0])"
   ]
  },
  {
   "cell_type": "markdown",
   "id": "3c8bf38a-2293-4753-98d6-58e6cf497775",
   "metadata": {},
   "source": [
    "<span style=\"font-family: 'Courier New'; font-size: 18px;\">Since there is only one record with a value of 0, you safely ignore it and do not need to pre-process this further. </span>"
   ]
  },
  {
   "cell_type": "code",
   "execution_count": 6,
   "id": "effcc4fe-1d6a-4dfc-a2a4-4a5da41302e1",
   "metadata": {},
   "outputs": [
    {
     "data": {
      "text/plain": [
       "TV           0\n",
       "Radio        0\n",
       "Newspaper    0\n",
       "Sales        0\n",
       "dtype: int64"
      ]
     },
     "execution_count": 6,
     "metadata": {},
     "output_type": "execute_result"
    }
   ],
   "source": [
    "data.isnull().sum()"
   ]
  },
  {
   "cell_type": "code",
   "execution_count": 7,
   "id": "d93c8aa4-86ec-4d8d-861b-4e2f79bb62ce",
   "metadata": {},
   "outputs": [
    {
     "data": {
      "text/plain": [
       "TV           float64\n",
       "Radio        float64\n",
       "Newspaper    float64\n",
       "Sales        float64\n",
       "dtype: object"
      ]
     },
     "execution_count": 7,
     "metadata": {},
     "output_type": "execute_result"
    }
   ],
   "source": [
    "data.dtypes"
   ]
  },
  {
   "cell_type": "code",
   "execution_count": 8,
   "id": "73678f66-6180-4637-b95f-def961bcee86",
   "metadata": {},
   "outputs": [
    {
     "data": {
      "text/plain": [
       "(200, 4)"
      ]
     },
     "execution_count": 8,
     "metadata": {},
     "output_type": "execute_result"
    }
   ],
   "source": [
    "data = data.drop_duplicates()\n",
    "data.shape"
   ]
  },
  {
   "cell_type": "markdown",
   "id": "e0347487-0c6e-4e0e-b86f-22e21be8fed4",
   "metadata": {},
   "source": [
    "<span style=\"font-family: 'Courier New'; font-size: 18px;\">There are no duplicate records in the dataset, as the count remains at 200 even after attempting to drop duplicates. </span>\n",
    "\n"
   ]
  },
  {
   "cell_type": "markdown",
   "id": "2bafb75d-cf2d-4830-9ac6-0c484d182670",
   "metadata": {},
   "source": [
    "_________________________"
   ]
  },
  {
   "cell_type": "markdown",
   "id": "08e0c1f2-2df8-4c0c-aa47-d6dce235c457",
   "metadata": {},
   "source": [
    "## - Visualization\n",
    "<span style=\"font-family: 'Courier New'; font-size: 18px;\">As you proceed, you started to visualize the relationships within the dataset. </span>"
   ]
  },
  {
   "cell_type": "code",
   "execution_count": 9,
   "id": "db291699-d090-4c38-9844-784f119cc645",
   "metadata": {},
   "outputs": [
    {
     "data": {
      "image/png": "[encoded data removed]",
      "text/plain": [
       "<Figure size 576x432 with 2 Axes>"
      ]
     },
     "metadata": {
      "needs_background": "light"
     },
     "output_type": "display_data"
    }
   ],
   "source": [
    "# Correlation Matrix\n",
    "\n",
    "plt.figure(figsize=(8,6))\n",
    "\n",
    "sns.heatmap(data.corr(), annot=True, cmap='coolwarm', fmt='.2f')\n",
    "\n",
    "plt.title(\"Correlation Matrix\")\n",
    "plt.show()"
   ]
  },
  {
   "attachments": {},
   "cell_type": "markdown",
   "id": "93de9c81-7889-4fc4-b971-358210ed74fd",
   "metadata": {},
   "source": [
    "<span style=\"font-family: 'Courier New'; font-size: 18px;\">**Proof 1**: There is a positive correlation between TV advertising and sales, while radio and newspaper spending showed weaker correlations. (Independence) </span>"
   ]
  },
  {
   "cell_type": "code",
   "execution_count": 10,
   "id": "994b8f7d-b5a4-43e8-872c-2dd69098c5de",
   "metadata": {},
   "outputs": [
    {
     "data": {
      "image/png": "[encoded data removed]",
      "text/plain": [
       "<Figure size 576x432 with 1 Axes>"
      ]
     },
     "metadata": {
      "needs_background": "light"
     },
     "output_type": "display_data"
    }
   ],
   "source": [
    "# Scatter plot\n",
    "plt.figure(figsize=(8, 6))\n",
    "\n",
    "# Plot each column on the x-axis\n",
    "plt.scatter(data['TV'], data['Sales'], label='TV', alpha=0.7)\n",
    "plt.scatter(data['Radio'], data['Sales'], label='Radio', alpha=0.7)\n",
    "plt.scatter(data['Newspaper'], data['Sales'], label='Newspaper', alpha=0.7)\n",
    "\n",
    "# Customize the plot\n",
    "plt.title('Scatter Plot Expenditures VS Sales Figures')\n",
    "plt.xlabel('Expenditures')\n",
    "plt.ylabel('Sales Figures')\n",
    "plt.legend()\n",
    "plt.grid(True)\n",
    "plt.show()"
   ]
  },
  {
   "attachments": {},
   "cell_type": "markdown",
   "id": "1071ad8e-7457-4d02-b4da-e94ffbe3e115",
   "metadata": {},
   "source": [
    "<span style=\"font-family: 'Courier New'; font-size: 18px;\">**Proof 2**: You plotted advertising expenditure against sales. The scatter plot revealed a clear upward trend for TV, indicating that increased spending on TV ads correlated with higher sales revenue. (Linearity) </span>"
   ]
  },
  {
   "cell_type": "code",
   "execution_count": 13,
   "id": "e5a62aba-deeb-4bac-bf98-f7633943f64e",
   "metadata": {},
   "outputs": [
    {
     "name": "stdout",
     "output_type": "stream",
     "text": [
      "    Variable       VIF\n",
      "0         TV  2.486772\n",
      "1      Radio  3.285462\n",
      "2  Newspaper  3.055245\n"
     ]
    }
   ],
   "source": [
    "# Add a constant (intercept) to the dataset to account for the intercept term in the VIF calculation\n",
    "\n",
    "data_VIF = data.drop(columns=['Sales'])\n",
    "data_with_const = data_VIF\n",
    "#data_with_const = add_constant(data_VIF)\n",
    "# Calculate the VIF for each feature\n",
    "vif_data = pd.DataFrame()\n",
    "vif_data[\"Variable\"] = data_with_const.columns\n",
    "vif_data[\"VIF\"] = [variance_inflation_factor(data_with_const.values, i) for i in range(data_with_const.shape[1])]\n",
    "\n",
    "# Display the VIF data\n",
    "print(vif_data)"
   ]
  },
  {
   "cell_type": "markdown",
   "id": "2e20a4d6-1725-45e1-9226-d69a672081a2",
   "metadata": {},
   "source": [
    "<span style=\"font-family: 'Courier New'; font-size: 18px;\">**Proof 3**: Based on these VIF results, we need not to remove or modify any variables due to multicollinearity, as all predictor variables (TV, Radio, Newspaper) have acceptable VIF values. (multicollinearity) </span>"
   ]
  },
  {
   "cell_type": "markdown",
   "id": "fc9a1e0e-09ff-40ec-9efa-f9c549a30101",
   "metadata": {},
   "source": [
    "Note: \n",
    "    The common heuristic we follow for the VIF values is:\n",
    "\n",
    "- VIF > 10: VIF value is definitely high, and the variable should be eliminated.\n",
    "- VIF > 5: Can be okay, but it is worth inspecting.\n",
    "- VIF < 5: Good VIF value. No need to eliminate this variable."
   ]
  },
  {
   "cell_type": "code",
   "execution_count": null,
   "id": "7108918a-36b5-45d9-8224-799a1b6c3f26",
   "metadata": {},
   "outputs": [],
   "source": [
    "# Histogram\n",
    "columns_to_plot = ['TV','Radio','Newspaper']\n",
    "plt.figure(figsize=(14,4))\n",
    "\n",
    "for i, column in enumerate(columns_to_plot,1):\n",
    "    plt.subplot(1,3,i)\n",
    "    plt.hist(data[column], bins=30, alpha=0.7,color = 'blue', edgecolor='black')\n",
    "    plt.title(f\"{column} Expenditures\")\n",
    "    plt.xlabel('Values')\n",
    "    plt.ylabel(\"Frequency\")\n",
    "    plt.grid(axis='y')\n",
    "\n",
    "plt.tight_layout()\n",
    "plt.show()"
   ]
  },
  {
   "cell_type": "code",
   "execution_count": null,
   "id": "ab871907-e0e9-4953-a91b-c62d83ea482b",
   "metadata": {},
   "outputs": [],
   "source": [
    "# Boxplot \n",
    "columns_to_plot = ['TV','Radio','Newspaper']\n",
    "plt.figure(figsize=(8,6))\n",
    "\n",
    "plt.boxplot([data[column] for column in columns_to_plot], labels=columns_to_plot)\n",
    "\n",
    "plt.title('Box Plot of Expenditures')\n",
    "plt.ylabel(\"Values\")\n",
    "plt.grid(axis='y')\n",
    "plt.show()"
   ]
  },
  {
   "cell_type": "markdown",
   "id": "d157d7e4-7726-47dd-8946-42d063a1016b",
   "metadata": {},
   "source": [
    "<span style=\"font-family: 'Courier New'; font-size: 18px;\">The above results indicate that their might be presence of outliers in the Newspaper column. </span><br>"
   ]
  },
  {
   "cell_type": "markdown",
   "id": "c97b3818-be11-4c38-83c5-b4f6f4dbdd29",
   "metadata": {},
   "source": [
    "<span style=\"font-family: 'Courier New'; font-size: 18px;\">Transform the Variable: You might consider applying a transformation to reduce skewness. Common transformations include:\n",
    "- Log Transformation: Useful for positive values, it can help reduce skewness and handle outliers.\n",
    "- Square Root Transformation: Also helpful for reducing skewness, especially for count data.\n",
    "- Box-Cox Transformation: A more general method that can be applied to make data more normally distributed.</span>"
   ]
  },
  {
   "cell_type": "code",
   "execution_count": null,
   "id": "e5814b1f-d6fc-4715-a0d6-f8a930194f1c",
   "metadata": {},
   "outputs": [],
   "source": [
    "print(data['Newspaper'].sort_values(ascending=True).tail())"
   ]
  },
  {
   "cell_type": "code",
   "execution_count": null,
   "id": "72d7c8dd-94f9-4b49-9f6b-25c9b7b0117e",
   "metadata": {},
   "outputs": [],
   "source": [
    "print(data[data['Newspaper'] == 100.9])\n",
    "print(data[data['Newspaper'] == 114])"
   ]
  },
  {
   "cell_type": "markdown",
   "id": "76c4bd3a-584e-4537-86d7-0ca13f739db5",
   "metadata": {},
   "source": [
    "<span style=\"font-family: 'Courier New'; font-size: 18px;\">Based on this observations, you conclude that this 2 records are outlier and may be erros are as this are far away from Quertile 3 so we removed them. </span>"
   ]
  },
  {
   "cell_type": "code",
   "execution_count": null,
   "id": "cf2281f9-14c0-45c0-af77-faf1c39e8a3d",
   "metadata": {},
   "outputs": [],
   "source": [
    "data = data[data['Newspaper'] != 114]\n",
    "data = data[data['Newspaper'] != 100.9]"
   ]
  },
  {
   "cell_type": "code",
   "execution_count": null,
   "id": "01080fe4-7c2e-4f9f-844a-be8abc0208d2",
   "metadata": {},
   "outputs": [],
   "source": [
    "data.shape"
   ]
  },
  {
   "cell_type": "markdown",
   "id": "9883bb38-3e93-4e2f-bc01-2689e29fbf21",
   "metadata": {},
   "source": [
    "As we have now 198 rows where initially we have 200 rows this shows outliers have successfully removed. "
   ]
  },
  {
   "cell_type": "code",
   "execution_count": null,
   "id": "1f95762a-8154-49d3-9af8-0b0268bbc18e",
   "metadata": {},
   "outputs": [],
   "source": [
    "# Apply square root transformation to the 'Newspaper'\n",
    "data['TransformedNewspaper'] = data['Newspaper'].apply(lambda x: x**0.5)"
   ]
  },
  {
   "cell_type": "code",
   "execution_count": null,
   "id": "81668860-8ada-4e89-b52a-475c1b23757c",
   "metadata": {},
   "outputs": [],
   "source": [
    "# Histogram\n",
    "plt.figure(figsize=(14,4))\n",
    "\n",
    "plt.subplot(1,3,i)\n",
    "plt.hist(data['TransformedNewspaper'], bins=30, alpha=0.7,color = 'blue', edgecolor='black')\n",
    "plt.title(f\"{'TransformedNewspaper'} Expenditures\")\n",
    "plt.xlabel('Values')\n",
    "plt.ylabel(\"Frequency\")\n",
    "plt.grid(axis='y')\n",
    "\n",
    "plt.tight_layout()\n",
    "plt.show()"
   ]
  },
  {
   "cell_type": "code",
   "execution_count": null,
   "id": "a232d772-365a-4a04-abc3-23f5a341a315",
   "metadata": {},
   "outputs": [],
   "source": [
    "# Boxplot \n",
    "columns_to_plot = ['TransformedNewspaper']\n",
    "plt.figure(figsize=(8,6))\n",
    "\n",
    "plt.boxplot([data[column] for column in columns_to_plot], labels=columns_to_plot)\n",
    "\n",
    "plt.title('Box Plot of Expenditures')\n",
    "plt.ylabel(\"Values\")\n",
    "plt.grid(axis='y')\n",
    "plt.show()"
   ]
  },
  {
   "cell_type": "markdown",
   "id": "61039643-e8d2-47d5-8308-002a4b9700b4",
   "metadata": {},
   "source": [
    "From above plots we can conclude that, our all columns follows the normal distribution. "
   ]
  },
  {
   "cell_type": "code",
   "execution_count": null,
   "id": "5e9e8edd-f523-428e-b864-0557e826cf56",
   "metadata": {},
   "outputs": [],
   "source": [
    "# We drop the newspaper column as we have created a transformed column of it \n",
    "data = data.drop(columns = ['Newspaper'])"
   ]
  },
  {
   "cell_type": "markdown",
   "id": "9161d9f1-9866-4d8c-b842-5ab9b8f1990d",
   "metadata": {},
   "source": [
    "_________________________"
   ]
  },
  {
   "cell_type": "markdown",
   "id": "49dde857-2745-4033-8322-a3ad254d8e1c",
   "metadata": {},
   "source": [
    "## - Linear Regression\n",
    "<span style=\"font-family: 'Courier New'; font-size: 18px;\">Since data meets most of the necessary conditions for multiple linear regression, You and team can proceed confidently with the analysis. </span>"
   ]
  },
  {
   "cell_type": "markdown",
   "id": "e5114f2f-6e70-4dd5-8f3d-8b82b30c9f41",
   "metadata": {},
   "source": [
    "### - Performing Simple Linear Regression over Sales vs TV"
   ]
  },
  {
   "cell_type": "code",
   "execution_count": null,
   "id": "c3e61d6f-057f-4c6f-bf99-306e28904426",
   "metadata": {},
   "outputs": [],
   "source": [
    "x = data[['TV']]\n",
    "y = data[['Sales']]\n",
    "\n",
    "x_train,x_test,y_train,y_test = train_test_split(x,y,test_size=0.2,random_state= 42)\n",
    "\n",
    "model_tv = LinearRegression()\n",
    "model_tv.fit(x_train,y_train)\n",
    "\n",
    "y_train_pred_tv = model_tv.predict(x_train)"
   ]
  },
  {
   "cell_type": "code",
   "execution_count": null,
   "id": "6848cf0a-a1b4-4b7e-9ee4-f78878b3615a",
   "metadata": {},
   "outputs": [],
   "source": [
    "tv_mse = mean_squared_error(y_train,y_train_pred_tv)\n",
    "tv_r2 = r2_score(y_train,y_train_pred_tv)\n",
    "tv_intercept = model_tv.intercept_\n",
    "tv_coefficient = model_tv.coef_[0]"
   ]
  },
  {
   "cell_type": "markdown",
   "id": "d7881e67-2019-41e9-b57b-2d6afbbba397",
   "metadata": {},
   "source": [
    "### - Performing Simple Linear Regression over Sales vs Newspaper"
   ]
  },
  {
   "cell_type": "code",
   "execution_count": null,
   "id": "2508afd9-a5d3-42d6-961c-feda972386f9",
   "metadata": {},
   "outputs": [],
   "source": [
    "x = data[['TransformedNewspaper']]\n",
    "y = data[['Sales']]\n",
    "\n",
    "x_train,x_test,y_train,y_test = train_test_split(x,y,test_size=0.2,random_state= 42)\n",
    "\n",
    "model_news = LinearRegression()\n",
    "model_news.fit(x_train,y_train)\n",
    "\n",
    "y_train_pred_news = model_news.predict(x_train)"
   ]
  },
  {
   "cell_type": "code",
   "execution_count": null,
   "id": "0059543a-8ca7-429f-a9f3-c4da291f943a",
   "metadata": {},
   "outputs": [],
   "source": [
    "news_mse = mean_squared_error(y_train,y_train_pred_news)\n",
    "news_r2 = r2_score(y_train,y_train_pred_news)\n",
    "news_intercept = model_news.intercept_\n",
    "news_coefficient = model_news.coef_[0]"
   ]
  },
  {
   "cell_type": "markdown",
   "id": "9a8f5a89-b27b-47dd-9bd9-99d1240e5d0c",
   "metadata": {},
   "source": [
    "### - Performing Simple Linear Regression over Sales vs Radio"
   ]
  },
  {
   "cell_type": "code",
   "execution_count": null,
   "id": "8dfea5c8-c8bc-41bc-9aea-4da342480e55",
   "metadata": {},
   "outputs": [],
   "source": [
    "x = data[['Radio']]\n",
    "y = data[['Sales']]\n",
    "\n",
    "x_train,x_test,y_train,y_test = train_test_split(x,y,test_size=0.2,random_state= 42)\n",
    "\n",
    "model_radio = LinearRegression()\n",
    "model_radio.fit(x_train,y_train)\n",
    "\n",
    "y_train_pred_radio = model_radio.predict(x_train)"
   ]
  },
  {
   "cell_type": "code",
   "execution_count": null,
   "id": "0dea4432-4e03-4130-8be9-9c030c04f66e",
   "metadata": {},
   "outputs": [],
   "source": [
    "radio_mse = mean_squared_error(y_train,y_train_pred_radio)\n",
    "radio_r2 = r2_score(y_train,y_train_pred_radio)\n",
    "radio_intercept = model_radio.intercept_\n",
    "radio_coefficient = model_radio.coef_[0]"
   ]
  },
  {
   "cell_type": "markdown",
   "id": "96ae7863-e7b1-4021-bc0c-2ffaaeeafc6d",
   "metadata": {},
   "source": [
    "### - Performing Multiple Linear Regression over Sales Vs (TV and Newspaper)"
   ]
  },
  {
   "cell_type": "code",
   "execution_count": null,
   "id": "00969483-26bb-4c77-8ebd-abb5fb3eed4c",
   "metadata": {},
   "outputs": [],
   "source": [
    "x = data[['TV','TransformedNewspaper']]\n",
    "y = data[['Sales']]\n",
    "\n",
    "x_train,x_test,y_train,y_test = train_test_split(x,y,test_size=0.2,random_state= 42)\n",
    "\n",
    "model_TN = LinearRegression()\n",
    "model_TN.fit(x_train,y_train)\n",
    "\n",
    "y_train_pred_TN = model_TN.predict(x_train)"
   ]
  },
  {
   "cell_type": "code",
   "execution_count": null,
   "id": "b1488156-1d52-4126-ba3e-1a6779fbd750",
   "metadata": {},
   "outputs": [],
   "source": [
    "TN_mse = mean_squared_error(y_train,y_train_pred_TN)\n",
    "TN_r2 = r2_score(y_train,y_train_pred_TN)\n",
    "TN_intercept = model_TN.intercept_\n",
    "TN_coefficient = model_TN.coef_[0]"
   ]
  },
  {
   "cell_type": "markdown",
   "id": "9ab5afe6-8161-4475-b8dd-ab56b03086f5",
   "metadata": {},
   "source": [
    "### - Performing Multiple Linear Regression over Sales Vs (TV and Radio)"
   ]
  },
  {
   "cell_type": "code",
   "execution_count": null,
   "id": "001bd16f-c4e6-4703-a42d-aefd06362b8c",
   "metadata": {},
   "outputs": [],
   "source": [
    "x = data[['TV','TransformedNewspaper']]\n",
    "y = data[['Sales']]\n",
    "\n",
    "x_train,x_test,y_train,y_test = train_test_split(x,y,test_size=0.2,random_state= 42)\n",
    "\n",
    "model_TR = LinearRegression()\n",
    "model_TR.fit(x_train,y_train)\n",
    "\n",
    "y_train_pred_TR = model_TR.predict(x_train)"
   ]
  },
  {
   "cell_type": "code",
   "execution_count": null,
   "id": "cf3c48a8-1a9a-4c6b-9d03-27fbb961b689",
   "metadata": {},
   "outputs": [],
   "source": [
    "TR_mse = mean_squared_error(y_train,y_train_pred_TR)\n",
    "TR_r2 = r2_score(y_train,y_train_pred_TR)\n",
    "TR_intercept = model_TR.intercept_\n",
    "TR_coefficient = model_TR.coef_[0]"
   ]
  },
  {
   "cell_type": "markdown",
   "id": "78d23c09-6847-4aeb-b001-e20216d9a734",
   "metadata": {},
   "source": [
    "### - Performing Multiple Linear Regression over Sales Vs (Radio and Newspaper)"
   ]
  },
  {
   "cell_type": "code",
   "execution_count": null,
   "id": "a93f1df3-7e23-42e1-b8a6-3f468007daa5",
   "metadata": {},
   "outputs": [],
   "source": [
    "x = data[['TV','TransformedNewspaper']]\n",
    "y = data[['Sales']]\n",
    "\n",
    "x_train,x_test,y_train,y_test = train_test_split(x,y,test_size=0.2,random_state= 42)\n",
    "\n",
    "model_RN = LinearRegression()\n",
    "model_RN.fit(x_train,y_train)\n",
    "\n",
    "y_train_pred_RN = model_RN.predict(x_train)"
   ]
  },
  {
   "cell_type": "code",
   "execution_count": null,
   "id": "01db3190-bd62-43f3-9756-d67a5663288d",
   "metadata": {},
   "outputs": [],
   "source": [
    "RN_mse = mean_squared_error(y_train,y_train_pred_RN)\n",
    "RN_r2 = r2_score(y_train,y_train_pred_RN)\n",
    "RN_intercept = model_RN.intercept_\n",
    "RN_coefficient = model_RN.coef_[0]"
   ]
  },
  {
   "cell_type": "markdown",
   "id": "a0a1a9ad-6efd-4b59-930f-96abca52f60e",
   "metadata": {},
   "source": [
    "### - Performing Multiple Linear Regression over Sales vs All"
   ]
  },
  {
   "cell_type": "code",
   "execution_count": null,
   "id": "2f82e3de-ab75-4df8-bea6-508d6c60aecf",
   "metadata": {},
   "outputs": [],
   "source": [
    "x = data.drop(columns=['Sales'])\n",
    "y = data[['Sales']]\n",
    "\n",
    "x_train,x_test,y_train,y_test = train_test_split(x,y,test_size=0.2,random_state= 42)\n",
    "\n",
    "model_all = LinearRegression()\n",
    "model_all.fit(x_train,y_train)\n",
    "\n",
    "y_train_pred_all = model_all.predict(x_train)"
   ]
  },
  {
   "cell_type": "code",
   "execution_count": null,
   "id": "fa199416-716d-4308-95ae-5b3fe335e50e",
   "metadata": {},
   "outputs": [],
   "source": [
    "all_mse = mean_squared_error(y_train,y_train_pred_all)\n",
    "all_r2 = r2_score(y_train,y_train_pred_all)\n",
    "all_intercept = model_all.intercept_\n",
    "all_coefficient = model_all.coef_[0]"
   ]
  },
  {
   "cell_type": "code",
   "execution_count": null,
   "id": "cab08af9-fbdd-4302-8222-6ef9cde3bce4",
   "metadata": {},
   "outputs": [],
   "source": [
    "# Data for the table\n",
    "table = {\n",
    "    \"Linear Regression over\": [\"TV\", \"Newspaper\", \"Radio\", \"TV and Newspaper\", \"TV and Radio\", \"Radio and Newspaper\", \"All\"],\n",
    "    \"MSE\": [tv_mse,news_mse,radio_mse,TN_mse,TR_mse,RN_mse,all_mse],  # Replace with your MSE values\n",
    "    \"R_squared\": [tv_r2,news_r2,radio_r2,TN_r2,TR_r2,RN_r2,all_r2],  # Replace with your R_squared values\n",
    "    \"Intercept\": [tv_intercept,news_intercept,radio_intercept,TN_intercept,TR_intercept,RN_intercept,all_intercept],  # Replace with your intercept values\n",
    "    \"Coefficient\": [tv_coefficient,news_coefficient,radio_coefficient,TN_coefficient,TR_coefficient,RN_coefficient,all_coefficient]  # Replace with your coefficient values\n",
    "}\n",
    "comparision = pd.DataFrame(table)"
   ]
  },
  {
   "cell_type": "code",
   "execution_count": null,
   "id": "00bb1e49-c240-4a43-9ab7-9110a78af9ff",
   "metadata": {},
   "outputs": [],
   "source": [
    "# Results for all combinations in table format\n",
    "# Apply styling to add borders\n",
    "styled_df = comparision.style.set_table_styles(\n",
    "    [\n",
    "        {'selector': 'th', 'props': [('border', '1px solid black'), ('padding', '5px'), ('text-align', 'center')]},  # Header borders\n",
    "        {'selector': 'td', 'props': [('border', '1px solid black'), ('padding', '5px'), ('text-align', 'center')]},  # Cell borders\n",
    "    ]\n",
    ")\n",
    "# Display the styled table\n",
    "styled_df"
   ]
  },
  {
   "cell_type": "markdown",
   "id": "15a7ddb5-c70e-4c17-90b8-604f02143d55",
   "metadata": {},
   "source": [
    "#### Best Model Based on R-Squared Value\n",
    "\n",
    "The best R-squared value is achieved when we use all the variables to predict sales. This indicates that the model incorporating all the variables provides the best fit and explains the most variation in the target variable (sales)."
   ]
  },
  {
   "cell_type": "markdown",
   "id": "fa2dde00-e0ae-4151-b161-1a2edd126f12",
   "metadata": {},
   "source": [
    "### - Model Interpretation\n",
    "<div class=\"alert alert-block alert-info\">\n",
    "<b><span style=\"font-family: 'Courier New'; font-size: 20px;\">The Interpretation comes out as : Sales=4.389+0.053×TV+0.10×Radio+0.09×$\\sqrt Newspaper$</b> </span>\n",
    "</div> "
   ]
  },
  {
   "cell_type": "markdown",
   "id": "19bda031-3311-4951-8149-cfad2a212788",
   "metadata": {},
   "source": [
    "<div class=\"alert alert-block alert-light\">\n",
    "    <b>\n",
    "        <span style=\"font-family: 'Arial'; font-size: 17px;\">\n",
    "            Which means:\n",
    "        </span>\n",
    "    </b>\n",
    "    <ul style=\"font-family: 'Arial'; font-size: 20px;\">\n",
    "        <li>If no budget is allocated to any ads, sales are projected to be approximately &dollar;4.3M.</li>\n",
    "        <li>For each additional &dollar;1,000 spent on TV advertising, sales increase by about 53,000 dollers.</li>\n",
    "    </ul>\n",
    "</div>"
   ]
  },
  {
   "cell_type": "markdown",
   "id": "d6ce436a-162a-4504-8c0b-904dcf471644",
   "metadata": {},
   "source": [
    "### - Actual Vs Predicted Sales visualization\n",
    "#### Over a training dataset"
   ]
  },
  {
   "cell_type": "code",
   "execution_count": null,
   "id": "ddfa4e8b-b489-4190-86bd-b477d80575d8",
   "metadata": {},
   "outputs": [],
   "source": [
    "# Ensure x_train, y_train, x_test, y_test, and y_pred are flattened arrays for plotting\n",
    "x_train_flat = x_train.values.flatten() if isinstance(x_train, pd.DataFrame) else x_train\n",
    "y_train_flat = y_train.values.flatten() if isinstance(y_train, pd.DataFrame) else y_train\n",
    "x_test_flat = x_test.values.flatten() if isinstance(x_test, pd.DataFrame) else x_test\n",
    "y_test_flat = y_test.values.flatten() if isinstance(y_test, pd.DataFrame) else y_test\n",
    "y_train_pred_flat = y_train_pred_all.flatten()"
   ]
  },
  {
   "cell_type": "code",
   "execution_count": null,
   "id": "eda0c23b-e8f9-4445-bb69-f3bd24486fb5",
   "metadata": {},
   "outputs": [],
   "source": [
    "# Define the grid for plotting\n",
    "x_grid_tv = np.linspace(x_train['TV'].min(), x_train['TV'].max(), 100)\n",
    "x_grid_radio = np.linspace(x_train['Radio'].min(), x_train['Radio'].max(), 100)\n",
    "x_grid_newspaper = np.linspace(x_train['TransformedNewspaper'].min(), x_train['TransformedNewspaper'].max(), 100)\n",
    "\n",
    "# Create subplots with 3D axes\n",
    "fig, axes = plt.subplots(1, 3, figsize=(15, 6), subplot_kw={'projection': '3d'})\n",
    "\n",
    "# Subplot 1: TV vs Radio (hold TransformedNewspaper constant)\n",
    "x_mesh_tv, y_mesh_radio = np.meshgrid(x_grid_tv, x_grid_radio)\n",
    "z_mesh_1 = all_intercept + all_coefficient[0] * x_mesh_tv + all_coefficient[1] * y_mesh_radio + all_coefficient[2] * np.mean(x_train['TransformedNewspaper'])\n",
    "\n",
    "axes[0].scatter(x_train['TV'], x_train['Radio'], y_train, color='blue', label='Data points')\n",
    "axes[0].plot_surface(x_mesh_tv, y_mesh_radio, z_mesh_1, alpha=0.5, cmap='viridis')\n",
    "axes[0].set_xlabel('TV')\n",
    "axes[0].set_ylabel('Radio')\n",
    "axes[0].set_zlabel('Sales')\n",
    "axes[0].set_title('TV vs Radio (TransformedNewspaper constant)')\n",
    "\n",
    "# Subplot 2: TV vs TransformedNewspaper (hold Radio constant)\n",
    "x_mesh_tv, y_mesh_newspaper = np.meshgrid(x_grid_tv, x_grid_newspaper)\n",
    "z_mesh_2 = all_intercept + all_coefficient[0] * x_mesh_tv + all_coefficient[1] * np.mean(x_train['Radio']) + all_coefficient[2] * y_mesh_newspaper\n",
    "\n",
    "axes[1].scatter(x_train['TV'], x_train['TransformedNewspaper'], y_train, color='blue', label='Data points')\n",
    "axes[1].plot_surface(x_mesh_tv, y_mesh_newspaper, z_mesh_2, alpha=0.5, cmap='viridis')\n",
    "axes[1].set_xlabel('TV')\n",
    "axes[1].set_ylabel('TransformedNewspaper')\n",
    "axes[1].set_zlabel('Sales')\n",
    "axes[1].set_title('TV vs TransformedNewspaper (Radio constant)')\n",
    "\n",
    "# Subplot 3: Radio vs TransformedNewspaper (hold TV constant)\n",
    "x_mesh_radio, y_mesh_newspaper = np.meshgrid(x_grid_radio, x_grid_newspaper)\n",
    "z_mesh_3 = all_intercept + all_coefficient[0] * np.mean(x_train['TV']) + all_coefficient[1] * x_mesh_radio + all_coefficient[2] * y_mesh_newspaper\n",
    "\n",
    "axes[2].scatter(x_train['Radio'], x_train['TransformedNewspaper'], y_train, color='blue', label='Data points')\n",
    "axes[2].plot_surface(x_mesh_radio, y_mesh_newspaper, z_mesh_3, alpha=0.5, cmap='viridis')\n",
    "axes[2].set_xlabel('Radio')\n",
    "axes[2].set_ylabel('TransformedNewspaper')\n",
    "axes[2].set_zlabel('Sales')\n",
    "axes[2].set_title('Radio vs TransformedNewspaper (TV constant)')\n",
    "\n",
    "# Adjust layout and show the plot\n",
    "plt.tight_layout()\n",
    "plt.show()\n"
   ]
  },
  {
   "cell_type": "code",
   "execution_count": null,
   "id": "9fea480f-a9eb-4fed-ba73-74ae0a20f5bf",
   "metadata": {},
   "outputs": [],
   "source": [
    "# Subplot grid: 1 row and 3 columns (for each combination)\n",
    "fig, axes = plt.subplots(1, 3, figsize=(18, 6), subplot_kw={'projection': '3d'})\n",
    "\n",
    "# Subplot 1: TV vs Radio (holding TransformedNewspaper constant)\n",
    "ax1 = axes[0]\n",
    "ax1.scatter(x_train['TV'], x_train['Radio'], y_train, color='blue', label='Actual Sales', marker='o')\n",
    "ax1.scatter(x_train['TV'], x_train['Radio'], y_train_pred_all, color='red', label='Predicted Sales', marker='^')\n",
    "\n",
    "ax1.set_xlabel('TV Budget')\n",
    "ax1.set_ylabel('Radio Budget')\n",
    "ax1.set_zlabel('Sales Revenue')\n",
    "ax1.set_title('TV vs Radio (TransformedNewspaper constant)')\n",
    "ax1.legend()\n",
    "\n",
    "# Subplot 2: TV vs TransformedNewspaper (holding Radio constant)\n",
    "ax2 = axes[1]\n",
    "ax2.scatter(x_train['TV'], x_train['TransformedNewspaper'], y_train, color='blue', label='Actual Sales', marker='o')\n",
    "ax2.scatter(x_train['TV'], x_train['TransformedNewspaper'], y_train_pred_all, color='red', label='Predicted Sales', marker='^')\n",
    "\n",
    "ax2.set_xlabel('TV Budget')\n",
    "ax2.set_ylabel('Newspaper Budget')\n",
    "ax2.set_zlabel('Sales Revenue')\n",
    "ax2.set_title('TV vs TransformedNewspaper (Radio constant)')\n",
    "ax2.legend()\n",
    "\n",
    "# Subplot 3: Radio vs TransformedNewspaper (holding TV constant)\n",
    "ax3 = axes[2]\n",
    "ax3.scatter(x_train['Radio'], x_train['TransformedNewspaper'], y_train, color='blue', label='Actual Sales', marker='o')\n",
    "ax3.scatter(x_train['Radio'], x_train['TransformedNewspaper'], y_train_pred_all, color='red', label='Predicted Sales', marker='^')\n",
    "\n",
    "ax3.set_xlabel('Radio Budget')\n",
    "ax3.set_ylabel('Newspaper Budget')\n",
    "ax3.set_zlabel('Sales Revenue')\n",
    "ax3.set_title('Radio vs TransformedNewspaper (TV constant)')\n",
    "ax3.legend()\n",
    "\n",
    "# Adjust layout\n",
    "plt.tight_layout()\n",
    "\n",
    "# Show the plot\n",
    "plt.show()\n"
   ]
  },
  {
   "cell_type": "markdown",
   "id": "f8f4586a-4a88-442c-b7ae-0eb3899a23a5",
   "metadata": {},
   "source": [
    "## - Residual Analysis"
   ]
  },
  {
   "cell_type": "code",
   "execution_count": null,
   "id": "c28ac20d-34c0-4ef1-aa38-04eb999d126e",
   "metadata": {},
   "outputs": [],
   "source": [
    "# Calculate residuals\n",
    "res = np.array(y_train_flat - y_train_pred_flat, dtype=float)"
   ]
  },
  {
   "cell_type": "code",
   "execution_count": null,
   "id": "88e128f8-ad96-4000-8abc-36223888fd3f",
   "metadata": {},
   "outputs": [],
   "source": [
    "# Create a figure for residuals\n",
    "plt.figure(figsize=(12, 6))\n",
    "\n",
    "# Plot the histogram of residuals \n",
    "plt.subplot(1, 2, 1)\n",
    "plt.hist(res, bins=10, edgecolor='black') \n",
    "plt.title('Histogram of Residuals')\n",
    "plt.xlabel('Residuals')\n",
    "plt.ylabel('Frequency')\n",
    "\n",
    "# Residuals vs Fitted values plot\n",
    "plt.subplot(1, 2, 2)\n",
    "plt.scatter(y_train_pred_flat, res)\n",
    "plt.axhline(0, color='red', linestyle='--')\n",
    "plt.title('Residuals vs Fitted Values')\n",
    "plt.xlabel('Fitted Values')\n",
    "plt.ylabel('Residuals')\n",
    "\n",
    "plt.tight_layout()\n",
    "plt.show()\n"
   ]
  },
  {
   "attachments": {},
   "cell_type": "markdown",
   "id": "7f654f64-78df-4319-903c-fb52226243b0",
   "metadata": {},
   "source": [
    "<span style=\"font-family: 'Courier New'; font-size: 18px;\">**Proof 4**: The center of the normal distribution is around zero. The shape is also looks like a normal distribution. (Normality) </span>"
   ]
  },
  {
   "cell_type": "code",
   "execution_count": null,
   "id": "d7474db8-557a-4107-b54c-cdbde23abc36",
   "metadata": {},
   "outputs": [],
   "source": [
    "print(x_train.shape)\n",
    "print(res.shape)"
   ]
  },
  {
   "cell_type": "code",
   "execution_count": null,
   "id": "a17571fa-513c-4114-b7f6-e0758d33503c",
   "metadata": {},
   "outputs": [],
   "source": [
    "# Create subplots for each feature\n",
    "fig, axs = plt.subplots(1, 3, figsize=(18, 5))\n",
    "\n",
    "# Plot residuals against each feature\n",
    "features = ['Radio', 'TV', 'TransformedNewspaper']\n",
    "for i, feature in enumerate(features):\n",
    "    axs[i].scatter(x_train[feature], res, alpha=0.6)\n",
    "    axs[i].axhline(y=0, color='red', linestyle='--')  # Line at 0 for reference\n",
    "    axs[i].set_title(f'Residuals vs {feature}')\n",
    "    axs[i].set_xlabel(feature)\n",
    "    axs[i].set_ylabel('Residuals')\n",
    "\n",
    "plt.tight_layout()\n",
    "plt.show()"
   ]
  },
  {
   "attachments": {},
   "cell_type": "markdown",
   "id": "b1536f0e-8a25-4ec2-b1dc-003b448571a2",
   "metadata": {},
   "source": [
    "<span style=\"font-family: 'Courier New'; font-size: 18px;\">**Proof 5**: The residuals don't follow any patterns. So, the asssumptions of Simple Linear Regression are validated. (Homoscedasticity) </span>"
   ]
  },
  {
   "cell_type": "markdown",
   "id": "7237ae71-c0c7-4eb1-b2db-a54a26b4479c",
   "metadata": {},
   "source": [
    "### - Actual Vs Predicted Sales visualization\n",
    "#### Over a testing dataset"
   ]
  },
  {
   "cell_type": "code",
   "execution_count": null,
   "id": "2e310104-4551-42ee-b838-de72254a4e35",
   "metadata": {},
   "outputs": [],
   "source": [
    "y_pred_all = model_all.predict(x_test)\n",
    "y_pred_flat = y_pred_all.flatten() if isinstance(y_pred, pd.DataFrame) else y_pred"
   ]
  },
  {
   "cell_type": "code",
   "execution_count": null,
   "id": "e14fcd0f-dc21-4ba2-86b6-993dce345dab",
   "metadata": {},
   "outputs": [],
   "source": [
    "# evaluate the model on the training and test set\n",
    "print('The R-squared for the training set is', round(r2_score(y_true = y_train, y_pred = y_train_pred_all), 2))\n",
    "print('The R-squared for the test set is', round(r2_score(y_true = y_test, y_pred = y_pred_all), 2))"
   ]
  },
  {
   "cell_type": "code",
   "execution_count": null,
   "id": "9a0f72b1-4a69-4124-b5e4-6ee919ea8bf0",
   "metadata": {},
   "outputs": [],
   "source": [
    "# Make predictions for the training and test sets\n",
    "y_train_pred = model_all.predict(x_train)\n",
    "y_test_pred = model_all.predict(x_test)\n",
    "\n",
    "# Create a 3D plot to visualize training and test data points along with the model's prediction\n",
    "fig = plt.figure(figsize=(14, 7))\n",
    "\n",
    "# Create subplots with 3D axes\n",
    "ax = fig.add_subplot(111, projection='3d')\n",
    "\n",
    "# Scatter plot for training data\n",
    "ax.scatter(x_train['TV'], x_train['Radio'], y_train, color='blue', label='Training Data', alpha=0.6)\n",
    "\n",
    "# Scatter plot for test data\n",
    "ax.scatter(x_test['TV'], x_test['Radio'], y_test, marker='^', color='red', label='Test Data', alpha=0.6)\n",
    "\n",
    "# Create a mesh grid for plotting the surface (for model's prediction)\n",
    "x_grid_tv = np.linspace(x_train['TV'].min(), x_train['TV'].max(), 100)\n",
    "x_grid_radio = np.linspace(x_train['Radio'].min(), x_train['Radio'].max(), 100)\n",
    "x_mesh_tv, y_mesh_radio = np.meshgrid(x_grid_tv, x_grid_radio)\n",
    "\n",
    "# Calculate the predicted values for the surface (using the mean of TransformedNewspaper)\n",
    "z_mesh = all_intercept + all_coefficient[0] * x_mesh_tv + all_coefficient[1] * y_mesh_radio + all_coefficient[2] * np.mean(x_train['TransformedNewspaper'])\n",
    "\n",
    "# Plot the surface (model's prediction surface)\n",
    "surf = ax.plot_surface(x_mesh_tv, y_mesh_radio, z_mesh, color='yellow', alpha=0.35)\n",
    "\n",
    "# Create a proxy artist for the surface to add it to the legend\n",
    "legend_elements = [\n",
    "    Line2D([0], [0], marker='o', color='w', markerfacecolor='blue', markersize=10, label='Training Data'),\n",
    "    Line2D([0], [0], marker='^', color='w', markerfacecolor='red', markersize=10, label='Test Data'),\n",
    "    Line2D([0], [0], color='yellow', lw=4, label='Model Prediction')\n",
    "]\n",
    "\n",
    "# Labels and title\n",
    "ax.set_xlabel('TV')\n",
    "ax.set_ylabel('Radio')\n",
    "ax.set_zlabel('Sales')\n",
    "ax.set_title('Training & Test Data with Model Prediction')\n",
    "\n",
    "# Add legend\n",
    "ax.legend(handles=legend_elements)\n",
    "\n",
    "# Show the plot\n",
    "plt.tight_layout()\n",
    "plt.show()\n"
   ]
  },
  {
   "cell_type": "markdown",
   "id": "3e0bb093-27e1-4e92-8d26-6156ec5c81fa",
   "metadata": {},
   "source": [
    "________________\n",
    "_________________________"
   ]
  },
  {
   "cell_type": "markdown",
   "id": "1cfee82d-fcdd-458a-896c-bbb5ffbef86b",
   "metadata": {},
   "source": [
    "# Recommendations\n",
    "<span style=\"font-family: 'Arial'; font-size: 20px;\"> Based on our comprehensive analysis, DataByteSun recommended that RefreshCo increase its television advertising budget and a regression equation to optimum budget. We provided Saira with substantial data to support this recommendation, demonstrating a linear relationship between TV, Radio and Newspaper advertising and sales growth. </span>"
   ]
  },
  {
   "cell_type": "markdown",
   "id": "b20a895d-821f-4b37-bd26-dcfc2627c7cb",
   "metadata": {},
   "source": [
    "__________________\n",
    "_________________________"
   ]
  },
  {
   "cell_type": "markdown",
   "id": "d73c8045-8414-4e1a-bf5c-20f82b29541a",
   "metadata": {},
   "source": [
    "# Conclusion\n",
    "<span style=\"font-family: 'Arial'; font-size: 18px;\"> With data-driven insights in hand, Saira and her team felt empowered to adjust their advertising strategy. Following the implementation of your recommendations, RefreshCo experienced a significant uptick in sales over the following months. The partnership with DataByteSun flourished, leading to further successful collaborations in the competitive beverage market. </span>\n"
   ]
  },
  {
   "cell_type": "markdown",
   "id": "c9a90b40-e7c3-4298-bcca-41025bb1083d",
   "metadata": {},
   "source": [
    "<div class=\"alert alert-block alert-success\">\n",
    "<b>END</b>\n",
    "</div>"
   ]
  }
 ],
 "metadata": {
  "kernelspec": {
   "display_name": "Python 3 (ipykernel)",
   "language": "python",
   "name": "python3"
  },
  "language_info": {
   "codemirror_mode": {
    "name": "ipython",
    "version": 3
   },
   "file_extension": ".py",
   "mimetype": "text/x-python",
   "name": "python",
   "nbconvert_exporter": "python",
   "pygments_lexer": "ipython3",
   "version": "3.10.12"
  }
 },
 "nbformat": 4,
 "nbformat_minor": 5
}
