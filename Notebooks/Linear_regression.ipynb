{
 "cells": [
  {
   "cell_type": "markdown",
   "id": "4e4df6ef-2556-4f50-a2d5-3bceed70d201",
   "metadata": {},
   "source": [
    "# Fictional Story: AdBoost Marketing Agency"
   ]
  },
  {
   "cell_type": "markdown",
   "id": "770b5745-e4a2-4b2c-9900-a04899f51a94",
   "metadata": {},
   "source": [
    "____________"
   ]
  },
  {
   "cell_type": "markdown",
   "id": "78a8c7d7-f0cf-4aa4-84f0-5c398bce9ef3",
   "metadata": {},
   "source": [
    "# Introduction\n",
    "In the vibrant city of Adopolis, AdBoost Marketing Agency had established itself as a leader in optimizing advertising strategies for local businesses. However, their long-time client, RefreshCo—a popular beverage company—was facing a pressing challenge. Despite their substantial investment in advertising, sales had plateaued. Sarah, the CEO of RefreshCo, turned to AdBoost for a data-driven approach to enhance their marketing effectiveness."
   ]
  },
  {
   "cell_type": "markdown",
   "id": "5101f54a-ef39-4d9b-baa4-02f940044011",
   "metadata": {},
   "source": [
    "# The Challenge\n",
    "Sarah was particularly concerned about their TV advertising efforts. She believed that TV ads played a crucial role in driving sales but lacked the necessary data to substantiate this belief. \n",
    "\n",
    "<span style=\"font-family: 'Courier New'; font-size: 18px;\">=> She tasked AdBoost with analyzing the effectiveness of their advertising budget, focusing on the relationship between TV advertising and sales. </span>\n",
    "\n",
    "\n",
    "<span style=\"font-family: 'Courier New'; font-size: 22px;\"> Dataset: Advertising Sales Dataset </span><br>\n",
    "<span style=\"font-family: 'Courier New'; font-size: 14px;\"> Link: https://www.kaggle.com/datasets/ashydv/advertising-dataset </span>"
   ]
  },
  {
   "cell_type": "markdown",
   "id": "6112bd46-f55b-4de6-81f8-1a082950fc2d",
   "metadata": {},
   "source": [
    "_________________________"
   ]
  },
  {
   "cell_type": "markdown",
   "id": "5ae4db24-3060-4640-b31f-e4a7fa9cddc2",
   "metadata": {},
   "source": [
    "# The Investigation\n",
    "As a data scientist at AdBoost, you took on the challenge. You gathered the historical advertising data for RefreshCo, which included expenditures on TV, radio, and newspapers, along with the corresponding sales figures. \n",
    "- The dataset consisted of the following columns:\n",
    "    - TV: Amount spent on TV advertising (Budget for TV Advertisements in 1000 dollers)\n",
    "    - Radio: Amount spent on radio advertising (Budget for Radio Advertisements in 1000 dollers)\n",
    "    - Newspaper: Amount spent on newspaper advertising (Budget for Newspaper Advertisements in 1000 dollers)\n",
    "    - Sales: Total sales generated (Sales Revenue in Million dollers)"
   ]
  },
  {
   "cell_type": "markdown",
   "id": "6e3a45b6-c4c7-49c0-9649-c3562c078b40",
   "metadata": {},
   "source": [
    "____________________"
   ]
  },
  {
   "cell_type": "markdown",
   "id": "1362aa3c-e22f-4b58-b19e-0c2e097f9525",
   "metadata": {},
   "source": [
    "## - EDA"
   ]
  },
  {
   "cell_type": "code",
   "execution_count": 1,
   "id": "ed7d17ac-4c11-4bd8-b8f0-19326e05a74a",
   "metadata": {},
   "outputs": [
    {
     "data": {
      "text/html": [
       "<div>\n",
       "<style scoped>\n",
       "    .dataframe tbody tr th:only-of-type {\n",
       "        vertical-align: middle;\n",
       "    }\n",
       "\n",
       "    .dataframe tbody tr th {\n",
       "        vertical-align: top;\n",
       "    }\n",
       "\n",
       "    .dataframe thead th {\n",
       "        text-align: right;\n",
       "    }\n",
       "</style>\n",
       "<table border=\"1\" class=\"dataframe\">\n",
       "  <thead>\n",
       "    <tr style=\"text-align: right;\">\n",
       "      <th></th>\n",
       "      <th>TV</th>\n",
       "      <th>Radio</th>\n",
       "      <th>Newspaper</th>\n",
       "      <th>Sales</th>\n",
       "    </tr>\n",
       "  </thead>\n",
       "  <tbody>\n",
       "    <tr>\n",
       "      <th>0</th>\n",
       "      <td>230.1</td>\n",
       "      <td>37.8</td>\n",
       "      <td>69.2</td>\n",
       "      <td>22.1</td>\n",
       "    </tr>\n",
       "    <tr>\n",
       "      <th>1</th>\n",
       "      <td>44.5</td>\n",
       "      <td>39.3</td>\n",
       "      <td>45.1</td>\n",
       "      <td>10.4</td>\n",
       "    </tr>\n",
       "    <tr>\n",
       "      <th>2</th>\n",
       "      <td>17.2</td>\n",
       "      <td>45.9</td>\n",
       "      <td>69.3</td>\n",
       "      <td>12.0</td>\n",
       "    </tr>\n",
       "    <tr>\n",
       "      <th>3</th>\n",
       "      <td>151.5</td>\n",
       "      <td>41.3</td>\n",
       "      <td>58.5</td>\n",
       "      <td>16.5</td>\n",
       "    </tr>\n",
       "    <tr>\n",
       "      <th>4</th>\n",
       "      <td>180.8</td>\n",
       "      <td>10.8</td>\n",
       "      <td>58.4</td>\n",
       "      <td>17.9</td>\n",
       "    </tr>\n",
       "  </tbody>\n",
       "</table>\n",
       "</div>"
      ],
      "text/plain": [
       "      TV  Radio  Newspaper  Sales\n",
       "0  230.1   37.8       69.2   22.1\n",
       "1   44.5   39.3       45.1   10.4\n",
       "2   17.2   45.9       69.3   12.0\n",
       "3  151.5   41.3       58.5   16.5\n",
       "4  180.8   10.8       58.4   17.9"
      ]
     },
     "execution_count": 1,
     "metadata": {},
     "output_type": "execute_result"
    }
   ],
   "source": [
    "# Import datasets\n",
    "import pandas as pd\n",
    "import numpy as np\n",
    "\n",
    "data = pd.read_csv('../Datasets/advertising.csv')\n",
    "data.head()"
   ]
  },
  {
   "cell_type": "code",
   "execution_count": 2,
   "id": "ea94fe19-c6db-4512-9708-c467cac5ea55",
   "metadata": {},
   "outputs": [
    {
     "name": "stdout",
     "output_type": "stream",
     "text": [
      "<class 'pandas.core.frame.DataFrame'>\n",
      "RangeIndex: 200 entries, 0 to 199\n",
      "Data columns (total 4 columns):\n",
      " #   Column     Non-Null Count  Dtype  \n",
      "---  ------     --------------  -----  \n",
      " 0   TV         200 non-null    float64\n",
      " 1   Radio      200 non-null    float64\n",
      " 2   Newspaper  200 non-null    float64\n",
      " 3   Sales      200 non-null    float64\n",
      "dtypes: float64(4)\n",
      "memory usage: 6.4 KB\n"
     ]
    }
   ],
   "source": [
    "data.info()"
   ]
  },
  {
   "cell_type": "code",
   "execution_count": 3,
   "id": "c6761c5f-b4aa-4822-bfeb-09942a1bbe29",
   "metadata": {},
   "outputs": [
    {
     "data": {
      "text/html": [
       "<div>\n",
       "<style scoped>\n",
       "    .dataframe tbody tr th:only-of-type {\n",
       "        vertical-align: middle;\n",
       "    }\n",
       "\n",
       "    .dataframe tbody tr th {\n",
       "        vertical-align: top;\n",
       "    }\n",
       "\n",
       "    .dataframe thead th {\n",
       "        text-align: right;\n",
       "    }\n",
       "</style>\n",
       "<table border=\"1\" class=\"dataframe\">\n",
       "  <thead>\n",
       "    <tr style=\"text-align: right;\">\n",
       "      <th></th>\n",
       "      <th>TV</th>\n",
       "      <th>Radio</th>\n",
       "      <th>Newspaper</th>\n",
       "      <th>Sales</th>\n",
       "    </tr>\n",
       "  </thead>\n",
       "  <tbody>\n",
       "    <tr>\n",
       "      <th>count</th>\n",
       "      <td>200.000000</td>\n",
       "      <td>200.000000</td>\n",
       "      <td>200.000000</td>\n",
       "      <td>200.000000</td>\n",
       "    </tr>\n",
       "    <tr>\n",
       "      <th>mean</th>\n",
       "      <td>147.042500</td>\n",
       "      <td>23.264000</td>\n",
       "      <td>30.554000</td>\n",
       "      <td>15.130500</td>\n",
       "    </tr>\n",
       "    <tr>\n",
       "      <th>std</th>\n",
       "      <td>85.854236</td>\n",
       "      <td>14.846809</td>\n",
       "      <td>21.778621</td>\n",
       "      <td>5.283892</td>\n",
       "    </tr>\n",
       "    <tr>\n",
       "      <th>min</th>\n",
       "      <td>0.700000</td>\n",
       "      <td>0.000000</td>\n",
       "      <td>0.300000</td>\n",
       "      <td>1.600000</td>\n",
       "    </tr>\n",
       "    <tr>\n",
       "      <th>25%</th>\n",
       "      <td>74.375000</td>\n",
       "      <td>9.975000</td>\n",
       "      <td>12.750000</td>\n",
       "      <td>11.000000</td>\n",
       "    </tr>\n",
       "    <tr>\n",
       "      <th>50%</th>\n",
       "      <td>149.750000</td>\n",
       "      <td>22.900000</td>\n",
       "      <td>25.750000</td>\n",
       "      <td>16.000000</td>\n",
       "    </tr>\n",
       "    <tr>\n",
       "      <th>75%</th>\n",
       "      <td>218.825000</td>\n",
       "      <td>36.525000</td>\n",
       "      <td>45.100000</td>\n",
       "      <td>19.050000</td>\n",
       "    </tr>\n",
       "    <tr>\n",
       "      <th>max</th>\n",
       "      <td>296.400000</td>\n",
       "      <td>49.600000</td>\n",
       "      <td>114.000000</td>\n",
       "      <td>27.000000</td>\n",
       "    </tr>\n",
       "  </tbody>\n",
       "</table>\n",
       "</div>"
      ],
      "text/plain": [
       "               TV       Radio   Newspaper       Sales\n",
       "count  200.000000  200.000000  200.000000  200.000000\n",
       "mean   147.042500   23.264000   30.554000   15.130500\n",
       "std     85.854236   14.846809   21.778621    5.283892\n",
       "min      0.700000    0.000000    0.300000    1.600000\n",
       "25%     74.375000    9.975000   12.750000   11.000000\n",
       "50%    149.750000   22.900000   25.750000   16.000000\n",
       "75%    218.825000   36.525000   45.100000   19.050000\n",
       "max    296.400000   49.600000  114.000000   27.000000"
      ]
     },
     "execution_count": 3,
     "metadata": {},
     "output_type": "execute_result"
    }
   ],
   "source": [
    "# Initial Data Exploration\n",
    "data.describe()"
   ]
  },
  {
   "cell_type": "markdown",
   "id": "f4cdf710-4251-465c-8446-122b1f187f77",
   "metadata": {},
   "source": [
    "<span style=\"font-family: 'Courier New'; font-size: 18px;\">Based on the results, there are total of 200 records. Notably, the budget for TV is significantly higher compared to the other media. Additionally, Alex observed that the minimum value for Radio is 0, which warrants further investigation. </span>"
   ]
  },
  {
   "cell_type": "code",
   "execution_count": 4,
   "id": "5dbe7b5c-fa28-43bc-b24f-a7d0cb9552b7",
   "metadata": {},
   "outputs": [
    {
     "name": "stdout",
     "output_type": "stream",
     "text": [
      "       TV  Radio  Newspaper  Sales\n",
      "127  80.2    0.0        9.2   11.9\n"
     ]
    }
   ],
   "source": [
    "print(data[data['Radio'] == 0])"
   ]
  },
  {
   "cell_type": "markdown",
   "id": "3c8bf38a-2293-4753-98d6-58e6cf497775",
   "metadata": {},
   "source": [
    "<span style=\"font-family: 'Courier New'; font-size: 18px;\">Since there is only one record with a value of 0, Alex safely ignore it and do not need to pre-process this further. </span>"
   ]
  },
  {
   "cell_type": "code",
   "execution_count": 5,
   "id": "effcc4fe-1d6a-4dfc-a2a4-4a5da41302e1",
   "metadata": {},
   "outputs": [
    {
     "data": {
      "text/plain": [
       "TV           0\n",
       "Radio        0\n",
       "Newspaper    0\n",
       "Sales        0\n",
       "dtype: int64"
      ]
     },
     "execution_count": 5,
     "metadata": {},
     "output_type": "execute_result"
    }
   ],
   "source": [
    "data.isnull().sum()"
   ]
  },
  {
   "cell_type": "code",
   "execution_count": 6,
   "id": "d93c8aa4-86ec-4d8d-861b-4e2f79bb62ce",
   "metadata": {},
   "outputs": [
    {
     "data": {
      "text/plain": [
       "TV           float64\n",
       "Radio        float64\n",
       "Newspaper    float64\n",
       "Sales        float64\n",
       "dtype: object"
      ]
     },
     "execution_count": 6,
     "metadata": {},
     "output_type": "execute_result"
    }
   ],
   "source": [
    "data.dtypes"
   ]
  },
  {
   "cell_type": "code",
   "execution_count": 7,
   "id": "73678f66-6180-4637-b95f-def961bcee86",
   "metadata": {},
   "outputs": [
    {
     "data": {
      "text/plain": [
       "(200, 4)"
      ]
     },
     "execution_count": 7,
     "metadata": {},
     "output_type": "execute_result"
    }
   ],
   "source": [
    "data = data.drop_duplicates()\n",
    "data.shape"
   ]
  },
  {
   "cell_type": "markdown",
   "id": "e0347487-0c6e-4e0e-b86f-22e21be8fed4",
   "metadata": {},
   "source": [
    "<span style=\"font-family: 'Courier New'; font-size: 18px;\">There are no duplicate records in the dataset, as the count remains at 200 even after attempting to drop duplicates. </span>\n",
    "\n"
   ]
  },
  {
   "cell_type": "markdown",
   "id": "08e0c1f2-2df8-4c0c-aa47-d6dce235c457",
   "metadata": {},
   "source": [
    "## - Visualization\n",
    "<span style=\"font-family: 'Courier New'; font-size: 18px;\">As Alex proceed, he started to visualize the relationships within the dataset. </span>"
   ]
  },
  {
   "cell_type": "code",
   "execution_count": 16,
   "id": "db291699-d090-4c38-9844-784f119cc645",
   "metadata": {},
   "outputs": [
    {
     "data": {
      "image/png": "[encoded data removed]",
      "text/plain": [
       "<Figure size 576x432 with 2 Axes>"
      ]
     },
     "metadata": {
      "needs_background": "light"
     },
     "output_type": "display_data"
    }
   ],
   "source": [
    "# Correlation Matrix\n",
    "import seaborn as sns\n",
    "import matplotlib.pyplot as plt\n",
    "\n",
    "plt.figure(figsize=(8,6))\n",
    "\n",
    "sns.heatmap(data.corr(), annot=True, cmap='coolwarm', fmt='.2f')\n",
    "\n",
    "plt.title(\"Correlation Matrix\")\n",
    "plt.show()"
   ]
  },
  {
   "cell_type": "markdown",
   "id": "93de9c81-7889-4fc4-b971-358210ed74fd",
   "metadata": {},
   "source": [
    "<span style=\"font-family: 'Courier New'; font-size: 18px;\">There is a positive correlation between TV advertising and sales, while radio and newspaper spending showed weaker correlations. </span>"
   ]
  },
  {
   "cell_type": "code",
   "execution_count": 17,
   "id": "994b8f7d-b5a4-43e8-872c-2dd69098c5de",
   "metadata": {},
   "outputs": [
    {
     "data": {
      "image/png": "[encoded data removed]",
      "text/plain": [
       "<Figure size 576x432 with 1 Axes>"
      ]
     },
     "metadata": {
      "needs_background": "light"
     },
     "output_type": "display_data"
    }
   ],
   "source": [
    "# Scatter plot\n",
    "plt.figure(figsize=(8, 6))\n",
    "\n",
    "# Plot each column on the x-axis\n",
    "plt.scatter(data['TV'], data['Sales'], label='TV', alpha=0.7)\n",
    "plt.scatter(data['Radio'], data['Sales'], label='Radio', alpha=0.7)\n",
    "plt.scatter(data['Newspaper'], data['Sales'], label='Newspaper', alpha=0.7)\n",
    "\n",
    "# Customize the plot\n",
    "plt.title('Scatter Plot Expenditures VS Sales Figures')\n",
    "plt.xlabel('Expenditures')\n",
    "plt.ylabel('Sales Figures')\n",
    "plt.legend()\n",
    "plt.grid(True)\n",
    "plt.show()"
   ]
  },
  {
   "cell_type": "markdown",
   "id": "1071ad8e-7457-4d02-b4da-e94ffbe3e115",
   "metadata": {},
   "source": [
    "<span style=\"font-family: 'Courier New'; font-size: 18px;\">Alex plotted advertising expenditure against sales. The scatter plot revealed a clear upward trend for TV, indicating that increased spending on TV ads correlated with higher sales revenue. </span>"
   ]
  },
  {
   "cell_type": "code",
   "execution_count": 20,
   "id": "7108918a-36b5-45d9-8224-799a1b6c3f26",
   "metadata": {},
   "outputs": [
    {
     "data": {
      "image/png": "[encoded data removed]",
      "text/plain": [
       "<Figure size 1008x288 with 3 Axes>"
      ]
     },
     "metadata": {
      "needs_background": "light"
     },
     "output_type": "display_data"
    }
   ],
   "source": [
    "# Histogram\n",
    "columns_to_plot = ['TV','Radio','Newspaper']\n",
    "plt.figure(figsize=(14,4))\n",
    "\n",
    "for i, column in enumerate(columns_to_plot,1):\n",
    "    plt.subplot(1,3,i)\n",
    "    plt.hist(data[column], bins=30, alpha=0.7,color = 'blue', edgecolor='black')\n",
    "    plt.title(f\"{column} Expenditures\")\n",
    "    plt.xlabel('Values')\n",
    "    plt.ylabel(\"Frequency\")\n",
    "    plt.grid(axis='y')\n",
    "\n",
    "plt.tight_layout()\n",
    "plt.show()"
   ]
  },
  {
   "cell_type": "code",
   "execution_count": 11,
   "id": "ab871907-e0e9-4953-a91b-c62d83ea482b",
   "metadata": {},
   "outputs": [
    {
     "data": {
      "image/png": "[encoded data removed]",
      "text/plain": [
       "<Figure size 576x432 with 1 Axes>"
      ]
     },
     "metadata": {
      "needs_background": "light"
     },
     "output_type": "display_data"
    }
   ],
   "source": [
    "# Boxplot \n",
    "columns_to_plot = ['TV','Radio','Newspaper']\n",
    "plt.figure(figsize=(8,6))\n",
    "\n",
    "plt.boxplot([data[column] for column in columns_to_plot], labels=columns_to_plot)\n",
    "\n",
    "plt.title('Box Plot of Expenditures')\n",
    "plt.ylabel(\"Values\")\n",
    "plt.grid(axis='y')\n",
    "plt.show()"
   ]
  },
  {
   "cell_type": "markdown",
   "id": "d157d7e4-7726-47dd-8946-42d063a1016b",
   "metadata": {},
   "source": [
    "<span style=\"font-family: 'Courier New'; font-size: 18px;\">The above results indicate thei might be presence of outliers in the Newspaper column. However, since our primary focus is on the relationship between TV and Sales, Alex set aside this issue for now. </span><br>\n",
    "\n",
    "<span style=\"font-family: 'Courier New'; font-size: 18px;\">Based on the observations, Alex conclude that there is a linear relationship between the budget for TV advertisements and sales revenue. Additionally, all observations are independent, there is no multicollinearity, and the data for TV advertisements is normally distributed. </span>"
   ]
  },
  {
   "cell_type": "markdown",
   "id": "49dde857-2745-4033-8322-a3ad254d8e1c",
   "metadata": {},
   "source": [
    "## - Linear Regression\n",
    "<span style=\"font-family: 'Courier New'; font-size: 18px;\">Since data meets all the necessary conditions for linear regression, Alex and team can proceed confidently with the analysis. </span>"
   ]
  },
  {
   "cell_type": "code",
   "execution_count": 12,
   "id": "2f82e3de-ab75-4df8-bea6-508d6c60aecf",
   "metadata": {},
   "outputs": [],
   "source": [
    "# Linear Regression\n",
    "from sklearn.model_selection import train_test_split\n",
    "from sklearn.linear_model import LinearRegression\n",
    "from sklearn.metrics import mean_squared_error, r2_score\n",
    "\n",
    "x = data[['TV']]\n",
    "y = data[['Sales']]\n",
    "\n",
    "x_train,x_test,y_train,y_test = train_test_split(x,y,test_size=0.2,random_state= 42)\n",
    "\n",
    "model = LinearRegression()\n",
    "model.fit(x_train,y_train)\n",
    "\n",
    "y_pred = model.predict(x_test)"
   ]
  },
  {
   "cell_type": "code",
   "execution_count": 13,
   "id": "fa199416-716d-4308-95ae-5b3fe335e50e",
   "metadata": {},
   "outputs": [],
   "source": [
    "mse = mean_squared_error(y_test,y_pred)\n",
    "r2 = r2_score(y_test, y_pred)"
   ]
  },
  {
   "cell_type": "code",
   "execution_count": 14,
   "id": "e4ef228c-84aa-497a-b032-fb760e1f0353",
   "metadata": {},
   "outputs": [
    {
     "name": "stdout",
     "output_type": "stream",
     "text": [
      "Intercept: [7.00710843]\n",
      "Coefficient for TV: [0.05548294]\n",
      "Mean Squared Error: 6.101072906773963\n",
      "R^2 Score: 0.802561303423698\n"
     ]
    }
   ],
   "source": [
    "# Print the coefficients\n",
    "print(f'Intercept: {model.intercept_}')\n",
    "print(f'Coefficient for TV: {model.coef_[0]}')\n",
    "\n",
    "# Print the evaluation metrics\n",
    "print(f'Mean Squared Error: {mse}')\n",
    "print(f'R^2 Score: {r2}')"
   ]
  },
  {
   "cell_type": "markdown",
   "id": "fa2dde00-e0ae-4151-b161-1a2edd126f12",
   "metadata": {},
   "source": [
    "## - Model Interpretation\n",
    "<div class=\"alert alert-block alert-info\">\n",
    "<b><span style=\"font-family: 'Courier New'; font-size: 20px;\">The Interpretation comes out as : Sales=7.007+0.055×TV</b> </span>\n",
    "</div> \n"
   ]
  },
  {
   "cell_type": "markdown",
   "id": "3c38963b-ad89-4a0d-9519-5c75953b02b2",
   "metadata": {},
   "source": [
    "<div class=\"alert alert-block alert-light\">\n",
    "    <b>\n",
    "        <span style=\"font-family: 'Arial'; font-size: 20px;\">\n",
    "            Which means:\n",
    "        </span>\n",
    "    </b>\n",
    "    <ul style=\"font-family: 'Arial'; font-size: 20px;\">\n",
    "        <li>If no budget is allocated to TV ads, sales are projected to be approximately &dollar;7M.</li>\n",
    "        <li>For each &dollar;1,000 increase in the TV budget, sales increase by about 55,482.94 dollers.</li>\n",
    "    </ul>\n",
    "</div>\n"
   ]
  },
  {
   "cell_type": "markdown",
   "id": "0bce6ef6-21b2-40ef-84e4-fecd27142143",
   "metadata": {},
   "source": [
    "<div class=\"alert alert-block alert-light\">\n",
    "    <b>\n",
    "        <span style=\"font-family: 'Arial'; font-size: 20px;\">\n",
    "            Which means:\n",
    "        </span>\n",
    "    </b>\n",
    "    <ul style=\"font-family: 'Arial'; font-size: 20px;\">\n",
    "        <li>If no budget is allocated to TV ads, sales are projected to be approximately 7M &dollar;.</li>\n",
    "        <li>For each &dollar; 1,000 increase in the TV budget, sales increase by about &dollar; 55,482.94.</li>\n",
    "    </ul>\n",
    "</div>"
   ]
  },
  {
   "cell_type": "code",
   "execution_count": 15,
   "id": "d01da989-530f-4050-84c0-6180c4951ee7",
   "metadata": {},
   "outputs": [
    {
     "data": {
      "image/png": "[encoded data removed]",
      "text/plain": [
       "<Figure size 720x432 with 1 Axes>"
      ]
     },
     "metadata": {
      "needs_background": "light"
     },
     "output_type": "display_data"
    }
   ],
   "source": [
    "import matplotlib.pyplot as plt\n",
    "\n",
    "# Flatten y_pred for plotting\n",
    "y_pred_flat = y_pred.flatten()  # or use y_pred.ravel()\n",
    "\n",
    "# Extract the values from x_test for plotting\n",
    "x_test_values = x_test.values.flatten()  # or x_test.values.ravel()\n",
    "\n",
    "# Plot the results \n",
    "plt.figure(figsize=(10, 6))\n",
    "plt.scatter(x_test_values, y_test.values, color='blue', label='Actual Sales')\n",
    "plt.scatter(x_test_values, y_pred_flat, color='red', label='Predicted Sales')\n",
    "plt.plot(x_test_values, y_pred_flat, color='green', linewidth=1)\n",
    "plt.title('Actual vs Predicted Sales')\n",
    "plt.xlabel(\"TV Budget\")\n",
    "plt.ylabel(\"Sales Revenue\")\n",
    "plt.legend()\n",
    "plt.grid()\n",
    "plt.show()"
   ]
  },
  {
   "cell_type": "markdown",
   "id": "3e0bb093-27e1-4e92-8d26-6156ec5c81fa",
   "metadata": {},
   "source": [
    "________________"
   ]
  },
  {
   "cell_type": "markdown",
   "id": "1cfee82d-fcdd-458a-896c-bbb5ffbef86b",
   "metadata": {},
   "source": [
    "# Recommendations\n",
    "Based on the analysis, Alex recommended that RefreshCo increase their TV advertising budget. He suggested strategies such as targeting peak viewing hours and creating engaging ad content to maximize impact."
   ]
  },
  {
   "cell_type": "markdown",
   "id": "b20a895d-821f-4b37-bd26-dcfc2627c7cb",
   "metadata": {},
   "source": [
    "__________________"
   ]
  },
  {
   "cell_type": "markdown",
   "id": "d73c8045-8414-4e1a-bf5c-20f82b29541a",
   "metadata": {},
   "source": [
    "# Conclusion\n",
    "With data-driven insights in hand, Sarah and her team felt empowered to adjust their advertising strategy. Following the implementation of Alex’s recommendations, RefreshCo experienced a significant uptick in sales over the following months. The partnership with AdBoost flourished, leading to further successful collaborations in the competitive beverage market.\n"
   ]
  },
  {
   "cell_type": "markdown",
   "id": "c9a90b40-e7c3-4298-bcca-41025bb1083d",
   "metadata": {},
   "source": [
    "<div class=\"alert alert-block alert-success\">\n",
    "<b>END</b>\n",
    "</div>"
   ]
  },
  {
   "cell_type": "code",
   "execution_count": null,
   "id": "c20d5bf0-46db-458f-b05b-f7fb30c48575",
   "metadata": {},
   "outputs": [],
   "source": []
  }
 ],
 "metadata": {
  "kernelspec": {
   "display_name": "Python 3 (ipykernel)",
   "language": "python",
   "name": "python3"
  },
  "language_info": {
   "codemirror_mode": {
    "name": "ipython",
    "version": 3
   },
   "file_extension": ".py",
   "mimetype": "text/x-python",
   "name": "python",
   "nbconvert_exporter": "python",
   "pygments_lexer": "ipython3",
   "version": "3.10.12"
  }
 },
 "nbformat": 4,
 "nbformat_minor": 5
}
