{
 "cells": [
  {
   "cell_type": "markdown",
   "id": "0562a333",
   "metadata": {},
   "source": [
    "# Story: DataByteSun: RefreshCo's Path to Success"
   ]
  },
  {
   "cell_type": "markdown",
   "id": "b0688b85",
   "metadata": {},
   "source": [
    "## Introduction\n",
    "\n",
    "DataByteSun had made its mark as a leading technology consultancy, known for its expertise in leveraging data to drive impactful digital strategies for businesses. Their long-standing client, RefreshCo—a popular beverage brand—faced a new challenge. Despite substantial advertising investments, their sales had reached a particular level and now the sales are not growing. Saira, the CEO of RefreshCo, turned to DataByteSun for an innovative, data-driven approach to reignite their marketing effectiveness and inspire growth."
   ]
  },
  {
   "cell_type": "markdown",
   "id": "7f0578ca",
   "metadata": {},
   "source": [
    "## The Challenge\n",
    "\n",
    "Saira was particularly concerned about their TV advertising efforts. She believed that TV ads played a crucial role in driving sales but lacked the necessary data to substantiate this belief.\n",
    "\n",
    "=> To address this issue, Saira engaged DataByteSun to analyze the impact of their advertising budget, specifically focusing on the relationship between television advertising and sales performance.\n",
    "\n",
    "Dataset: Advertising Sales Dataset<br>\n",
    "Link: https://www.kaggle.com/datasets/ashydv/advertising-dataset"
   ]
  },
  {
   "cell_type": "markdown",
   "id": "8bad6849",
   "metadata": {},
   "source": [
    "## The Investigation\n",
    "\n",
    "As a data analyst at DataByteSun, we took on the challenge. We gathered the historical advertising data for RefreshCo, which included expenditures on TV, radio, and newspapers, along with the corresponding sales figures.\n",
    "\n",
    "- The dataset consisted of the following columns:\n",
    "    - TV: Amount spent on TV advertising (Budget for TV Advertisements in 1000 dollers)\n",
    "    - Radio: Amount spent on radio advertising (Budget for Radio Advertisements in 1000 dollers)\n",
    "    - Newspaper: Amount spent on newspaper advertising (Budget for Newspaper Advertisements in 1000 dollers)\n",
    "    - Sales: Total sales generated (Sales Revenue in Million dollers)"
   ]
  },
  {
   "cell_type": "markdown",
   "id": "8b0c8ea5",
   "metadata": {},
   "source": [
    "## Data Understanding"
   ]
  },
  {
   "cell_type": "code",
   "execution_count": 1,
   "id": "4df510d3",
   "metadata": {},
   "outputs": [],
   "source": [
    "# import warnings\n",
    "import warnings\n",
    "warnings.filterwarnings('ignore')\n",
    "\n",
    "# import important libraries\n",
    "import numpy as np\n",
    "import pandas as pd\n",
    "import matplotlib.pyplot as plt\n",
    "import seaborn as sns\n",
    "from sklearn.model_selection import train_test_split\n",
    "from sklearn.linear_model import LinearRegression\n",
    "from sklearn.metrics import mean_squared_error, r2_score"
   ]
  },
  {
   "cell_type": "code",
   "execution_count": 2,
   "id": "76641624",
   "metadata": {},
   "outputs": [],
   "source": [
    "# import the data\n",
    "data = pd.read_csv('advertising.csv')"
   ]
  },
  {
   "cell_type": "code",
   "execution_count": 3,
   "id": "f9f283e1",
   "metadata": {},
   "outputs": [
    {
     "data": {
      "text/html": [
       "<div>\n",
       "<style scoped>\n",
       "    .dataframe tbody tr th:only-of-type {\n",
       "        vertical-align: middle;\n",
       "    }\n",
       "\n",
       "    .dataframe tbody tr th {\n",
       "        vertical-align: top;\n",
       "    }\n",
       "\n",
       "    .dataframe thead th {\n",
       "        text-align: right;\n",
       "    }\n",
       "</style>\n",
       "<table border=\"1\" class=\"dataframe\">\n",
       "  <thead>\n",
       "    <tr style=\"text-align: right;\">\n",
       "      <th></th>\n",
       "      <th>TV</th>\n",
       "      <th>Radio</th>\n",
       "      <th>Newspaper</th>\n",
       "      <th>Sales</th>\n",
       "    </tr>\n",
       "  </thead>\n",
       "  <tbody>\n",
       "    <tr>\n",
       "      <th>0</th>\n",
       "      <td>230.1</td>\n",
       "      <td>37.8</td>\n",
       "      <td>69.2</td>\n",
       "      <td>22.1</td>\n",
       "    </tr>\n",
       "    <tr>\n",
       "      <th>1</th>\n",
       "      <td>44.5</td>\n",
       "      <td>39.3</td>\n",
       "      <td>45.1</td>\n",
       "      <td>10.4</td>\n",
       "    </tr>\n",
       "    <tr>\n",
       "      <th>2</th>\n",
       "      <td>17.2</td>\n",
       "      <td>45.9</td>\n",
       "      <td>69.3</td>\n",
       "      <td>12.0</td>\n",
       "    </tr>\n",
       "    <tr>\n",
       "      <th>3</th>\n",
       "      <td>151.5</td>\n",
       "      <td>41.3</td>\n",
       "      <td>58.5</td>\n",
       "      <td>16.5</td>\n",
       "    </tr>\n",
       "    <tr>\n",
       "      <th>4</th>\n",
       "      <td>180.8</td>\n",
       "      <td>10.8</td>\n",
       "      <td>58.4</td>\n",
       "      <td>17.9</td>\n",
       "    </tr>\n",
       "  </tbody>\n",
       "</table>\n",
       "</div>"
      ],
      "text/plain": [
       "      TV  Radio  Newspaper  Sales\n",
       "0  230.1   37.8       69.2   22.1\n",
       "1   44.5   39.3       45.1   10.4\n",
       "2   17.2   45.9       69.3   12.0\n",
       "3  151.5   41.3       58.5   16.5\n",
       "4  180.8   10.8       58.4   17.9"
      ]
     },
     "execution_count": 3,
     "metadata": {},
     "output_type": "execute_result"
    }
   ],
   "source": [
    "# let's look at the head of the data\n",
    "data.head()"
   ]
  },
  {
   "cell_type": "code",
   "execution_count": 4,
   "id": "9f3e2f39",
   "metadata": {},
   "outputs": [
    {
     "data": {
      "text/plain": [
       "(200, 4)"
      ]
     },
     "execution_count": 4,
     "metadata": {},
     "output_type": "execute_result"
    }
   ],
   "source": [
    "# let's look at the shape of the data\n",
    "data.shape"
   ]
  },
  {
   "cell_type": "markdown",
   "id": "8ba0c256",
   "metadata": {},
   "source": [
    "There are 200 rows and 4 columns in the data."
   ]
  },
  {
   "cell_type": "code",
   "execution_count": 5,
   "id": "404121e2",
   "metadata": {
    "scrolled": true
   },
   "outputs": [
    {
     "data": {
      "text/plain": [
       "Index(['TV', 'Radio', 'Newspaper', 'Sales'], dtype='object')"
      ]
     },
     "execution_count": 5,
     "metadata": {},
     "output_type": "execute_result"
    }
   ],
   "source": [
    "# let's look at the columns of the data\n",
    "data.columns"
   ]
  },
  {
   "cell_type": "markdown",
   "id": "0b2e1e63",
   "metadata": {},
   "source": [
    "The four columns in the dataset are 'TV', 'Radio', 'Newspaper' and 'Sales'.\n",
    "- 'TV' column represents the money spent on TV marketing.\n",
    "- 'Radio' column represents the money spent on radio marketing.\n",
    "- 'Newspaper' column represents the money spent on newspaper marketing."
   ]
  },
  {
   "cell_type": "code",
   "execution_count": 6,
   "id": "a1ba0708",
   "metadata": {
    "scrolled": true
   },
   "outputs": [
    {
     "data": {
      "text/plain": [
       "TV           float64\n",
       "Radio        float64\n",
       "Newspaper    float64\n",
       "Sales        float64\n",
       "dtype: object"
      ]
     },
     "execution_count": 6,
     "metadata": {},
     "output_type": "execute_result"
    }
   ],
   "source": [
    "# let's look at the data types of the data\n",
    "data.dtypes"
   ]
  },
  {
   "cell_type": "markdown",
   "id": "9455405b",
   "metadata": {},
   "source": [
    "The data type of all the columns in the data is float64."
   ]
  },
  {
   "cell_type": "code",
   "execution_count": 7,
   "id": "ab371f6d",
   "metadata": {
    "scrolled": true
   },
   "outputs": [
    {
     "data": {
      "text/plain": [
       "TV           0\n",
       "Radio        0\n",
       "Newspaper    0\n",
       "Sales        0\n",
       "dtype: int64"
      ]
     },
     "execution_count": 7,
     "metadata": {},
     "output_type": "execute_result"
    }
   ],
   "source": [
    "# let's look at the null values in the data\n",
    "data.isnull().sum()"
   ]
  },
  {
   "cell_type": "markdown",
   "id": "f3d997c1",
   "metadata": {},
   "source": [
    "There are no null values in the data."
   ]
  },
  {
   "cell_type": "code",
   "execution_count": 8,
   "id": "558b9069",
   "metadata": {},
   "outputs": [
    {
     "name": "stdout",
     "output_type": "stream",
     "text": [
      "<class 'pandas.core.frame.DataFrame'>\n",
      "RangeIndex: 200 entries, 0 to 199\n",
      "Data columns (total 4 columns):\n",
      " #   Column     Non-Null Count  Dtype  \n",
      "---  ------     --------------  -----  \n",
      " 0   TV         200 non-null    float64\n",
      " 1   Radio      200 non-null    float64\n",
      " 2   Newspaper  200 non-null    float64\n",
      " 3   Sales      200 non-null    float64\n",
      "dtypes: float64(4)\n",
      "memory usage: 6.4 KB\n"
     ]
    }
   ],
   "source": [
    "# let's look at the info of the data\n",
    "data.info()"
   ]
  },
  {
   "cell_type": "code",
   "execution_count": 9,
   "id": "0dbc3343",
   "metadata": {
    "scrolled": true
   },
   "outputs": [
    {
     "data": {
      "text/html": [
       "<div>\n",
       "<style scoped>\n",
       "    .dataframe tbody tr th:only-of-type {\n",
       "        vertical-align: middle;\n",
       "    }\n",
       "\n",
       "    .dataframe tbody tr th {\n",
       "        vertical-align: top;\n",
       "    }\n",
       "\n",
       "    .dataframe thead th {\n",
       "        text-align: right;\n",
       "    }\n",
       "</style>\n",
       "<table border=\"1\" class=\"dataframe\">\n",
       "  <thead>\n",
       "    <tr style=\"text-align: right;\">\n",
       "      <th></th>\n",
       "      <th>TV</th>\n",
       "      <th>Radio</th>\n",
       "      <th>Newspaper</th>\n",
       "      <th>Sales</th>\n",
       "    </tr>\n",
       "  </thead>\n",
       "  <tbody>\n",
       "    <tr>\n",
       "      <th>count</th>\n",
       "      <td>200.000000</td>\n",
       "      <td>200.000000</td>\n",
       "      <td>200.000000</td>\n",
       "      <td>200.000000</td>\n",
       "    </tr>\n",
       "    <tr>\n",
       "      <th>mean</th>\n",
       "      <td>147.042500</td>\n",
       "      <td>23.264000</td>\n",
       "      <td>30.554000</td>\n",
       "      <td>15.130500</td>\n",
       "    </tr>\n",
       "    <tr>\n",
       "      <th>std</th>\n",
       "      <td>85.854236</td>\n",
       "      <td>14.846809</td>\n",
       "      <td>21.778621</td>\n",
       "      <td>5.283892</td>\n",
       "    </tr>\n",
       "    <tr>\n",
       "      <th>min</th>\n",
       "      <td>0.700000</td>\n",
       "      <td>0.000000</td>\n",
       "      <td>0.300000</td>\n",
       "      <td>1.600000</td>\n",
       "    </tr>\n",
       "    <tr>\n",
       "      <th>25%</th>\n",
       "      <td>74.375000</td>\n",
       "      <td>9.975000</td>\n",
       "      <td>12.750000</td>\n",
       "      <td>11.000000</td>\n",
       "    </tr>\n",
       "    <tr>\n",
       "      <th>50%</th>\n",
       "      <td>149.750000</td>\n",
       "      <td>22.900000</td>\n",
       "      <td>25.750000</td>\n",
       "      <td>16.000000</td>\n",
       "    </tr>\n",
       "    <tr>\n",
       "      <th>75%</th>\n",
       "      <td>218.825000</td>\n",
       "      <td>36.525000</td>\n",
       "      <td>45.100000</td>\n",
       "      <td>19.050000</td>\n",
       "    </tr>\n",
       "    <tr>\n",
       "      <th>max</th>\n",
       "      <td>296.400000</td>\n",
       "      <td>49.600000</td>\n",
       "      <td>114.000000</td>\n",
       "      <td>27.000000</td>\n",
       "    </tr>\n",
       "  </tbody>\n",
       "</table>\n",
       "</div>"
      ],
      "text/plain": [
       "               TV       Radio   Newspaper       Sales\n",
       "count  200.000000  200.000000  200.000000  200.000000\n",
       "mean   147.042500   23.264000   30.554000   15.130500\n",
       "std     85.854236   14.846809   21.778621    5.283892\n",
       "min      0.700000    0.000000    0.300000    1.600000\n",
       "25%     74.375000    9.975000   12.750000   11.000000\n",
       "50%    149.750000   22.900000   25.750000   16.000000\n",
       "75%    218.825000   36.525000   45.100000   19.050000\n",
       "max    296.400000   49.600000  114.000000   27.000000"
      ]
     },
     "execution_count": 9,
     "metadata": {},
     "output_type": "execute_result"
    }
   ],
   "source": [
    "# let's look at the statistical summary of the data\n",
    "data.describe()"
   ]
  },
  {
   "cell_type": "markdown",
   "id": "3c941d2a",
   "metadata": {},
   "source": [
    "Statistical summary is shown for the numeric columns only. The money spent on TV marketing is significantly higher as compared to the money spent on radio marketing and newspaper marketing.\n",
    "<br>\n",
    "<br>\n",
    "We can also see that the minimum value for radio is 0."
   ]
  },
  {
   "cell_type": "code",
   "execution_count": 10,
   "id": "d0555bad",
   "metadata": {
    "scrolled": true
   },
   "outputs": [
    {
     "data": {
      "text/html": [
       "<div>\n",
       "<style scoped>\n",
       "    .dataframe tbody tr th:only-of-type {\n",
       "        vertical-align: middle;\n",
       "    }\n",
       "\n",
       "    .dataframe tbody tr th {\n",
       "        vertical-align: top;\n",
       "    }\n",
       "\n",
       "    .dataframe thead th {\n",
       "        text-align: right;\n",
       "    }\n",
       "</style>\n",
       "<table border=\"1\" class=\"dataframe\">\n",
       "  <thead>\n",
       "    <tr style=\"text-align: right;\">\n",
       "      <th></th>\n",
       "      <th>TV</th>\n",
       "      <th>Radio</th>\n",
       "      <th>Newspaper</th>\n",
       "      <th>Sales</th>\n",
       "    </tr>\n",
       "  </thead>\n",
       "  <tbody>\n",
       "    <tr>\n",
       "      <th>127</th>\n",
       "      <td>80.2</td>\n",
       "      <td>0.0</td>\n",
       "      <td>9.2</td>\n",
       "      <td>11.9</td>\n",
       "    </tr>\n",
       "  </tbody>\n",
       "</table>\n",
       "</div>"
      ],
      "text/plain": [
       "       TV  Radio  Newspaper  Sales\n",
       "127  80.2    0.0        9.2   11.9"
      ]
     },
     "execution_count": 10,
     "metadata": {},
     "output_type": "execute_result"
    }
   ],
   "source": [
    "# let's look at the number of records for which the value of radio is 0\n",
    "data[data['Radio'] == 0]"
   ]
  },
  {
   "cell_type": "markdown",
   "id": "7712aec7",
   "metadata": {},
   "source": [
    "Since there is only 1 record with 0 value, we can safely ignore it and we don't need to preprocess this further."
   ]
  },
  {
   "cell_type": "code",
   "execution_count": 11,
   "id": "b3d0ada3",
   "metadata": {
    "scrolled": true
   },
   "outputs": [
    {
     "data": {
      "text/plain": [
       "0"
      ]
     },
     "execution_count": 11,
     "metadata": {},
     "output_type": "execute_result"
    }
   ],
   "source": [
    "# let's look at the duplicate values in the data\n",
    "data.duplicated().sum()"
   ]
  },
  {
   "cell_type": "markdown",
   "id": "f5204918",
   "metadata": {},
   "source": [
    "There are no duplicated values in the data."
   ]
  },
  {
   "cell_type": "markdown",
   "id": "eb5094f8",
   "metadata": {},
   "source": [
    "## Data Visualization"
   ]
  },
  {
   "cell_type": "code",
   "execution_count": 12,
   "id": "7c668680",
   "metadata": {},
   "outputs": [
    {
     "data": {
      "image/png": "[encoded data removed]",
      "text/plain": [
       "<Figure size 1080x576 with 1 Axes>"
      ]
     },
     "metadata": {
      "needs_background": "light"
     },
     "output_type": "display_data"
    }
   ],
   "source": [
    "# let's look at the scatter plot of all variables with Sales in single graph\n",
    "plt.figure(figsize=[15,8])\n",
    "plt.scatter(x = data['TV'], y = data['Sales'], label = 'TV')\n",
    "plt.scatter(x = data['Radio'], y = data['Sales'], label = 'Radio')\n",
    "plt.scatter(x = data['Newspaper'], y = data['Sales'], label = 'Newspaper')\n",
    "plt.title('Marketing Spent VS Sales')\n",
    "plt.xlabel('Marketing Spent')\n",
    "plt.ylabel('Sales')\n",
    "plt.legend()\n",
    "plt.grid(True)\n",
    "plt.show()"
   ]
  },
  {
   "cell_type": "markdown",
   "id": "e5a77f6f",
   "metadata": {},
   "source": [
    "We have plotted the marketing spent on TV, Radio and Newspaper against Sales. From the above scatter plot, we can clearly see that the TV and Sales are linearly correlated, so the 1st assumption of the simple linear regression is validated. There is a positive correlation between the TV marketing and Sales."
   ]
  },
  {
   "cell_type": "code",
   "execution_count": 13,
   "id": "cff24b78",
   "metadata": {},
   "outputs": [
    {
     "data": {
      "image/png": "[encoded data removed]",
      "text/plain": [
       "<Figure size 1440x432 with 3 Axes>"
      ]
     },
     "metadata": {
      "needs_background": "light"
     },
     "output_type": "display_data"
    }
   ],
   "source": [
    "# Let's look at the distribution plot of all variables against Sales\n",
    "plt.figure(figsize=[20,6])\n",
    "for i, column in enumerate(data[['TV','Radio','Newspaper']], 1):\n",
    "    plt.subplot(1, 3, i)\n",
    "    sns.distplot(data[column], color = 'blue')\n",
    "    plt.title(f'Marketing Spent on {column}')\n",
    "    plt.xlabel('Values')\n",
    "    plt.ylabel('Frequency')"
   ]
  },
  {
   "cell_type": "markdown",
   "id": "67dda192",
   "metadata": {},
   "source": [
    "From the distribution plot, we can see the distribution. The distribution of 'Newspaper' variable is left skewed.\n",
    "<br>\n",
    "<br>\n",
    "We can also see the histogram in the distribution plot. Histogram basically indicates the frequency."
   ]
  },
  {
   "cell_type": "code",
   "execution_count": 14,
   "id": "821a8376",
   "metadata": {},
   "outputs": [
    {
     "data": {
      "image/png": "[encoded data removed]",
      "text/plain": [
       "<Figure size 720x432 with 1 Axes>"
      ]
     },
     "metadata": {
      "needs_background": "light"
     },
     "output_type": "display_data"
    }
   ],
   "source": [
    "# Let's look at the boxplot of 'TV', 'Radio' and 'Newspaper'\n",
    "plt.figure(figsize=[10, 6])\n",
    "plt.boxplot(data[['TV', 'Radio', 'Newspaper']], labels = ['TV', 'Radio', 'Newspaper'])\n",
    "plt.title('Box Plot of Marketing Spent')\n",
    "plt.ylabel('values')\n",
    "plt.grid()\n",
    "plt.show()"
   ]
  },
  {
   "cell_type": "markdown",
   "id": "06c2d188",
   "metadata": {},
   "source": [
    "From the boxplot, it is evident that there are outliers present in the 'Newspaper' variable. But, since we're interested in the 'TV' variable, we're not going to treat outliers in the 'Newspaper' variable as of now."
   ]
  },
  {
   "cell_type": "code",
   "execution_count": 15,
   "id": "8ae92f66",
   "metadata": {},
   "outputs": [
    {
     "data": {
      "text/html": [
       "<div>\n",
       "<style scoped>\n",
       "    .dataframe tbody tr th:only-of-type {\n",
       "        vertical-align: middle;\n",
       "    }\n",
       "\n",
       "    .dataframe tbody tr th {\n",
       "        vertical-align: top;\n",
       "    }\n",
       "\n",
       "    .dataframe thead th {\n",
       "        text-align: right;\n",
       "    }\n",
       "</style>\n",
       "<table border=\"1\" class=\"dataframe\">\n",
       "  <thead>\n",
       "    <tr style=\"text-align: right;\">\n",
       "      <th></th>\n",
       "      <th>TV</th>\n",
       "      <th>Radio</th>\n",
       "      <th>Newspaper</th>\n",
       "      <th>Sales</th>\n",
       "    </tr>\n",
       "  </thead>\n",
       "  <tbody>\n",
       "    <tr>\n",
       "      <th>TV</th>\n",
       "      <td>1.000000</td>\n",
       "      <td>0.054809</td>\n",
       "      <td>0.056648</td>\n",
       "      <td>0.901208</td>\n",
       "    </tr>\n",
       "    <tr>\n",
       "      <th>Radio</th>\n",
       "      <td>0.054809</td>\n",
       "      <td>1.000000</td>\n",
       "      <td>0.354104</td>\n",
       "      <td>0.349631</td>\n",
       "    </tr>\n",
       "    <tr>\n",
       "      <th>Newspaper</th>\n",
       "      <td>0.056648</td>\n",
       "      <td>0.354104</td>\n",
       "      <td>1.000000</td>\n",
       "      <td>0.157960</td>\n",
       "    </tr>\n",
       "    <tr>\n",
       "      <th>Sales</th>\n",
       "      <td>0.901208</td>\n",
       "      <td>0.349631</td>\n",
       "      <td>0.157960</td>\n",
       "      <td>1.000000</td>\n",
       "    </tr>\n",
       "  </tbody>\n",
       "</table>\n",
       "</div>"
      ],
      "text/plain": [
       "                 TV     Radio  Newspaper     Sales\n",
       "TV         1.000000  0.054809   0.056648  0.901208\n",
       "Radio      0.054809  1.000000   0.354104  0.349631\n",
       "Newspaper  0.056648  0.354104   1.000000  0.157960\n",
       "Sales      0.901208  0.349631   0.157960  1.000000"
      ]
     },
     "execution_count": 15,
     "metadata": {},
     "output_type": "execute_result"
    }
   ],
   "source": [
    "# let's look at the correlations\n",
    "data.corr()"
   ]
  },
  {
   "cell_type": "markdown",
   "id": "e8661903",
   "metadata": {},
   "source": [
    "We can see the correlation between all the variables. The correlation between TV and Sales is 0.9. It indicates that the TV and Sales are highly correlated."
   ]
  },
  {
   "cell_type": "code",
   "execution_count": 16,
   "id": "d04f8905",
   "metadata": {},
   "outputs": [
    {
     "data": {
      "image/png": "[encoded data removed]",
      "text/plain": [
       "<Figure size 720x432 with 2 Axes>"
      ]
     },
     "metadata": {
      "needs_background": "light"
     },
     "output_type": "display_data"
    }
   ],
   "source": [
    "# Let's plot these correlations using heatmap\n",
    "plt.figure(figsize=[10, 6])\n",
    "sns.heatmap(data.corr(), annot=True, cmap = 'Blues')\n",
    "plt.show()"
   ]
  },
  {
   "cell_type": "markdown",
   "id": "8bc84366",
   "metadata": {},
   "source": [
    "We have used the blue color shade for the heatmap. The light blue color indicates the lower correlation whereas dark blue color indicates the higher correlation."
   ]
  },
  {
   "cell_type": "markdown",
   "id": "8d44e82c",
   "metadata": {},
   "source": [
    "## Model Building"
   ]
  },
  {
   "cell_type": "markdown",
   "id": "954028f4",
   "metadata": {},
   "source": [
    "Since data meets most of the necessary conditions for linear regression, we can proceed with the model building."
   ]
  },
  {
   "cell_type": "code",
   "execution_count": 17,
   "id": "e811614c",
   "metadata": {},
   "outputs": [],
   "source": [
    "# define X and y\n",
    "X = data[['TV']]    # independent variable\n",
    "y = data[['Sales']] # dependent variable"
   ]
  },
  {
   "cell_type": "code",
   "execution_count": 18,
   "id": "f274388a",
   "metadata": {},
   "outputs": [],
   "source": [
    "# train test split\n",
    "X_train, X_test, y_train, y_test = train_test_split(X, y, test_size=0.2, random_state=42)"
   ]
  },
  {
   "cell_type": "code",
   "execution_count": 19,
   "id": "f5509602",
   "metadata": {},
   "outputs": [
    {
     "data": {
      "text/plain": [
       "LinearRegression()"
      ]
     },
     "execution_count": 19,
     "metadata": {},
     "output_type": "execute_result"
    }
   ],
   "source": [
    "# build the model\n",
    "model = LinearRegression()   # creates a linear regression object\n",
    "model.fit(X_train, y_train)  # learns the coefficient"
   ]
  },
  {
   "cell_type": "code",
   "execution_count": 20,
   "id": "4f7f8ee4",
   "metadata": {},
   "outputs": [],
   "source": [
    "# make predictions on the train set\n",
    "y_train_pred = model.predict(X_train)\n",
    "y_test_pred = model.predict(X_test)"
   ]
  },
  {
   "cell_type": "code",
   "execution_count": 21,
   "id": "7ddfe974",
   "metadata": {},
   "outputs": [
    {
     "name": "stdout",
     "output_type": "stream",
     "text": [
      "The intercept of the model is 7.01\n",
      "The slope of the model is 0.06\n"
     ]
    }
   ],
   "source": [
    "# let's look at the coefficients of the model\n",
    "print(f'The intercept of the model is {round(model.intercept_[0], 2)}')\n",
    "print(f'The slope of the model is {round(model.coef_[0][0], 2)}')"
   ]
  },
  {
   "cell_type": "markdown",
   "id": "3a526ac8",
   "metadata": {},
   "source": [
    "## Model Interpretation\n",
    "### - Model Interpretation\n",
    "<div class=\"alert alert-block alert-info\">\n",
    "<b><span style=\"font-family: 'Courier New'; font-size: 20px;\">the equation of the line: y = 7.01 + 0.06 x TV</span></b></div>\n",
    "\n",
    "Which means:\n",
    "- If no budget is allocated to TV ads, sales are 7.01 units.\n",
    "- For each unit increase in the TV budget, sales increases by 0.06 units."
   ]
  },
  {
   "cell_type": "code",
   "execution_count": 22,
   "id": "c2c2a9f2",
   "metadata": {},
   "outputs": [
    {
     "name": "stdout",
     "output_type": "stream",
     "text": [
      "The R-squared of the train set is 0.81\n",
      "The R-squared of the test set is 0.8\n",
      "The mean squared error of the train set is 5.0\n",
      "The mean squared error of the test set is 6.1\n"
     ]
    }
   ],
   "source": [
    "# evaluate the model\n",
    "print(f'The R-squared of the train set is {round(r2_score(y_train, y_train_pred), 2)}')\n",
    "print(f'The R-squared of the test set is {round(r2_score(y_test, y_test_pred), 2)}')\n",
    "print(f'The mean squared error of the train set is {round(mean_squared_error(y_train, y_train_pred), 2)}')\n",
    "print(f'The mean squared error of the test set is {round(mean_squared_error(y_test, y_test_pred), 2)}')"
   ]
  },
  {
   "cell_type": "code",
   "execution_count": 23,
   "id": "639f6bc4",
   "metadata": {},
   "outputs": [
    {
     "data": {
      "image/png": "[encoded data removed]",
      "text/plain": [
       "<Figure size 720x432 with 1 Axes>"
      ]
     },
     "metadata": {
      "needs_background": "light"
     },
     "output_type": "display_data"
    }
   ],
   "source": [
    "# let's visualize the model on the overall data\n",
    "\n",
    "plt.figure(figsize=[10, 6])\n",
    "plt.xlabel('TV')\n",
    "plt.ylabel('Sales')\n",
    "plt.scatter(X_train, y_train, label = 'Train Set')\n",
    "plt.scatter(X_test, y_test, label = 'Test Set')\n",
    "plt.plot(X_test, y_test_pred, 'g')\n",
    "plt.legend()\n",
    "plt.show()"
   ]
  },
  {
   "cell_type": "markdown",
   "id": "c702355d",
   "metadata": {},
   "source": [
    "## Residual Analysis"
   ]
  },
  {
   "cell_type": "markdown",
   "id": "7cb0518a",
   "metadata": {},
   "source": [
    "Residuals are basically error terms. It's the difference between the actual y value and predicted y value."
   ]
  },
  {
   "cell_type": "code",
   "execution_count": 24,
   "id": "d47eb015",
   "metadata": {},
   "outputs": [],
   "source": [
    "# residuals\n",
    "res = y_train - y_train_pred"
   ]
  },
  {
   "cell_type": "code",
   "execution_count": 25,
   "id": "da0fa189",
   "metadata": {
    "scrolled": false
   },
   "outputs": [
    {
     "data": {
      "image/png": "[encoded data removed]",
      "text/plain": [
       "<Figure size 576x288 with 1 Axes>"
      ]
     },
     "metadata": {
      "needs_background": "light"
     },
     "output_type": "display_data"
    }
   ],
   "source": [
    "# let's plot the residuals\n",
    "plt.figure(figsize=[8,4])\n",
    "sns.distplot(res)\n",
    "plt.title('Residuals')\n",
    "plt.show()"
   ]
  },
  {
   "cell_type": "markdown",
   "id": "41787dd9",
   "metadata": {},
   "source": [
    "We can see the bell shaped curve for the distribution of error terms. It shows that the error terms are normally distributed so the 2nd assumption of the simple linear regression is validated."
   ]
  },
  {
   "cell_type": "code",
   "execution_count": 26,
   "id": "988265b2",
   "metadata": {},
   "outputs": [
    {
     "data": {
      "image/png": "[encoded data removed]",
      "text/plain": [
       "<Figure size 432x288 with 1 Axes>"
      ]
     },
     "metadata": {
      "needs_background": "light"
     },
     "output_type": "display_data"
    }
   ],
   "source": [
    "# scatter plot of the residuals\n",
    "plt.scatter(y_train_pred, res)\n",
    "plt.show()"
   ]
  },
  {
   "cell_type": "markdown",
   "id": "279b9fde",
   "metadata": {},
   "source": [
    "From the scatter plot of residuals, it is clear that the error terms are independent of each other. This validates the 3rd assumption of the simple linear regression.\n",
    "<br>\n",
    "<br>\n",
    "The variance of the error terms is not changing. It means that the error terms have constant variance and this validates the 4th assumption of the simple linear regression."
   ]
  },
  {
   "cell_type": "markdown",
   "id": "563bf5d2",
   "metadata": {},
   "source": [
    "## Recommendations\n",
    "\n",
    "Based on our comprehensive analysis, DataByteSun recommended RefreshCo to increase its television advertising budget. We provided Saira with substantial data to support this recommendation, demonstrating a clear relationship between money spent on TV marketing and sales growth."
   ]
  },
  {
   "cell_type": "markdown",
   "id": "98da1386",
   "metadata": {},
   "source": [
    "## Conclusion\n",
    "\n",
    "With data-driven insights in hand, Saira and her team felt empowered to adjust their advertising strategy. Following the implementation of your recommendations, RefreshCo experienced a significant uptick in sales over the following months. The partnership with DataByteSun flourished, leading to further successful collaborations in the competitive beverage market."
   ]
  },
  {
   "cell_type": "markdown",
   "id": "8206f432",
   "metadata": {},
   "source": [
    "<div class=\"alert alert-block alert-success\"><b>END</b></div>"
   ]
  }
 ],
 "metadata": {
  "kernelspec": {
   "display_name": "Python 3",
   "language": "python",
   "name": "python3"
  },
  "language_info": {
   "codemirror_mode": {
    "name": "ipython",
    "version": 3
   },
   "file_extension": ".py",
   "mimetype": "text/x-python",
   "name": "python",
   "nbconvert_exporter": "python",
   "pygments_lexer": "ipython3",
   "version": "3.6.8"
  }
 },
 "nbformat": 4,
 "nbformat_minor": 5
}
